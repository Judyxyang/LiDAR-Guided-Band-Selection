{
  "cells": [
    {
      "cell_type": "markdown",
      "id": "14525fd7",
      "metadata": {
        "id": "14525fd7"
      },
      "source": [
        "# 0.0 Import Libraries"
      ]
    },
    {
      "cell_type": "code",
      "execution_count": 1,
      "id": "vuX4sZpytah9",
      "metadata": {
        "colab": {
          "base_uri": "https://localhost:8080/"
        },
        "id": "vuX4sZpytah9",
        "outputId": "2a249afc-2ba3-4b8a-916a-6286c709e452"
      },
      "outputs": [
        {
          "output_type": "stream",
          "name": "stdout",
          "text": [
            "Collecting spectral\n",
            "  Downloading spectral-0.23.1-py3-none-any.whl (212 kB)\n",
            "\u001b[2K     \u001b[90m━━━━━━━━━━━━━━━━━━━━━━━━━━━━━━━━━━━━━━━━\u001b[0m \u001b[32m212.9/212.9 kB\u001b[0m \u001b[31m1.6 MB/s\u001b[0m eta \u001b[36m0:00:00\u001b[0m\n",
            "\u001b[?25hCollecting mat73\n",
            "  Downloading mat73-0.63-py3-none-any.whl (19 kB)\n",
            "Collecting einops\n",
            "  Downloading einops-0.8.0-py3-none-any.whl (43 kB)\n",
            "\u001b[2K     \u001b[90m━━━━━━━━━━━━━━━━━━━━━━━━━━━━━━━━━━━━━━━━\u001b[0m \u001b[32m43.2/43.2 kB\u001b[0m \u001b[31m3.1 MB/s\u001b[0m eta \u001b[36m0:00:00\u001b[0m\n",
            "\u001b[?25hRequirement already satisfied: numpy in /usr/local/lib/python3.10/dist-packages (from spectral) (1.25.2)\n",
            "Requirement already satisfied: h5py in /usr/local/lib/python3.10/dist-packages (from mat73) (3.11.0)\n",
            "Installing collected packages: spectral, einops, mat73\n",
            "Successfully installed einops-0.8.0 mat73-0.63 spectral-0.23.1\n"
          ]
        }
      ],
      "source": [
        "pip install spectral mat73  einops"
      ]
    },
    {
      "cell_type": "code",
      "execution_count": 2,
      "id": "12826627",
      "metadata": {
        "id": "12826627"
      },
      "outputs": [],
      "source": [
        "import numpy as np\n",
        "import torch\n",
        "import torch.nn as nn\n",
        "import torch.nn.functional as F\n",
        "import sys\n",
        "import os\n",
        "import math\n",
        "\n",
        "from einops import rearrange\n",
        "import torch.optim as optim\n",
        "import torchvision\n",
        "from torchvision import datasets, transforms\n",
        "from scipy import io\n",
        "import torch.utils.data\n",
        "import scipy.io as sio\n",
        "import mat73\n",
        "import matplotlib.pyplot as plt\n",
        "from torch.utils.data import Dataset, DataLoader\n",
        "device = torch.device(\"cuda\" if torch.cuda.is_available() else \"cpu\")"
      ]
    },
    {
      "cell_type": "markdown",
      "id": "6dRG3WratmCN",
      "metadata": {
        "id": "6dRG3WratmCN"
      },
      "source": [
        "# 1.0 Upload Data"
      ]
    },
    {
      "cell_type": "code",
      "execution_count": 3,
      "id": "Vpwq4Yi-tgjs",
      "metadata": {
        "colab": {
          "base_uri": "https://localhost:8080/"
        },
        "id": "Vpwq4Yi-tgjs",
        "outputId": "31507814-680b-4a75-e84b-d090c1dc7c50"
      },
      "outputs": [
        {
          "output_type": "stream",
          "name": "stdout",
          "text": [
            "Mounted at /content/drive\n"
          ]
        }
      ],
      "source": [
        "from google.colab import drive\n",
        "drive.mount('/content/drive')"
      ]
    },
    {
      "cell_type": "code",
      "execution_count": 4,
      "id": "vMin2GFJtorP",
      "metadata": {
        "id": "vMin2GFJtorP",
        "colab": {
          "base_uri": "https://localhost:8080/"
        },
        "outputId": "5c40809a-4885-4a25-fb8a-cd37ed8aceb4"
      },
      "outputs": [
        {
          "output_type": "stream",
          "name": "stdout",
          "text": [
            " 2013_DFTC\t\t\t\t\t\t best_model_p13_weights.pth\n",
            " 2013_IEEE_GRSS_DF_Contest_CASI_349_1905_144.mat\t best_model_p15_weights.pth\n",
            " 2013_IEEE_GRSS_DF_Contest_LiDAR.mat\t\t\t best_model_p3_weights.pth\n",
            " ablationp5_spatialonly_UH2013_model_state_dict.pth\t best_model_p7_weights.pth\n",
            " ablationp7_removeZpath_Uh2013_model_state_dict.pth\t best_model_p9_weights.pth\n",
            " ablationp7_removeZpath_UH2013_model_state_dict.pth\t best_model.pth\n",
            " ablationp7_spatialonly_Uh2013_model_state_dict.pth\t best_model_weights.pth\n",
            " ablationp7_spatialonly_UH2013_model_state_dict.pth\t best_model_wts.pth\n",
            " ablationp7_Uh2013_model_state_dict.pth\t\t\t BS_RLFCC_UH2013.ipynb\n",
            " ablationp7_UH2013_model_state_dict.pth\t\t\t cae_model_state_batchscore.pth\n",
            " ablation_Uh2013_model_state_dict.pth\t\t\t cae_model_state.pth\n",
            " ablation_UH2013_model_state_dict.pth\t\t\t'Contrastive Best model'\n",
            " Autoencodermodel.pth\t\t\t\t\t cross_modal_autoencoder_best.pth\n",
            " Autoencodermodel_uh2013_20Ksample.pth\t\t\t cross_modal_autoencoder.pth\n",
            " Autoencodermodel_uh2013_adam_20Ksample.pth\t\t DFTC2013_Fusion_Model.h5\n",
            " Autoencodermodel_uh2013_adamp13_20Ksample.pth\t\t GRSS2013.mat\n",
            " Autoencodermodel_uh2013_adamp9_20Ksample.pth\t\t hyperspectral_lidar_fusion_mamba_model.pth\n",
            " Autoencodermodel_uh2013_admp3fuseddata_50Ksample.pth\t __MACOSX\n",
            " Autoencodermodel_uh2013_admp5fuseddata_50Ksample.pth\t model_path.pth\n",
            " Autoencodermodel_uh2013_admp7fuseddata_50Ksample.pth\t model.pth\n",
            " Autoencodermodel_uh2013.pth\t\t\t\t model_save_path\n",
            " Autoencodermodel_uh2013_rms_20Ksample.pth\t\t model_state_dict.pth\n",
            " Autoencodermodel_uh2013_sgdp11fuseddata_20Ksample.pth\t output_mask.tif\n",
            " Autoencodermodel_uh2013_sgdp13_20Ksample.pth\t\t p3_Uh2013_model_state_dict.pth\n",
            " Autoencodermodel_uh2013_sgdp13fuseddata_20Ksample.pth\t p3_UH2013_model_state_dict.pth\n",
            " Autoencodermodel_uh2013_sgdp3_20Ksample.pth\t\t p5_Uh2013_model_state_dict.pth\n",
            " Autoencodermodel_uh2013_sgdp3fuseddata_20Ksample.pth\t p5_UH2013_model_state_dict.pth\n",
            " Autoencodermodel_uh2013_sgdp3fuseddata_50Ksample.pth\t p7_Uh2013_model_state_dict.pth\n",
            " Autoencodermodel_uh2013_sgdp3nfuseddata_20Ksample.pth\t p7_UH2013_model_state_dict.pth\n",
            " Autoencodermodel_uh2013_sgdp5_20Ksample.pth\t\t p9New_Uh2013_model_state_dict.pth\n",
            " Autoencodermodel_uh2013_sgdp5fuseddata_20Ksample.pth\t p9New_UH2013_model_state_dict.pth\n",
            " Autoencodermodel_uh2013_sgdp5fuseddata_50Ksample.pth\t p9_Uh2013_model_state_dict.pth\n",
            " Autoencodermodel_uh2013_sgdp5nfuseddata_20Ksample.pth\t p9_UH2013_model_state_dict.pth\n",
            " Autoencodermodel_uh2013_sgdp7_20Ksample.pth\t\t random_hsi_2013_data.mat\n",
            " Autoencodermodel_uh2013_sgdp7fuseddata_20Ksample.pth\t saved_model.pt\n",
            " Autoencodermodel_uh2013_sgdp7fuseddata_50Ksample.pth\t sorted_hsi_2013_data_least_to_most.mat\n",
            " Autoencodermodel_uh2013_sgdp7nfuseddata_20Ksample.pth\t sorted_hsi_2013_data.mat\n",
            " Autoencodermodel_uh2013_sgdp9fuseddata_20Ksample.pth\t trained_model.pth\n",
            " Autoencodermodel_uh2013_sgdp9fuseddata_50Ksample.pth\t Uh2013_model_state_dict.pth\n",
            " Autoencodermodel_uh2013_sgdp9v1_20Ksample.pth\t\t UH2013_model_state_dict.pth\n",
            " best_contrastive_model.pth\t\t\t\t UH_lid_P7TPU_ab_model_state_dict.pth\n",
            " best_hyperspectral_lidar_fusion_mamba_model.pth\t UH_P7TPU_ab_model_state_dict.pth\n",
            " best_model_p11_weights.pth\t\t\t\t vis_attn_best_model.pt\n"
          ]
        }
      ],
      "source": [
        "! ls '/content/drive/MyDrive/A02_RemoteSensingData/UHS_2013_DFTC/'"
      ]
    },
    {
      "cell_type": "code",
      "execution_count": 5,
      "id": "4NMT_vf3t3Bg",
      "metadata": {
        "id": "4NMT_vf3t3Bg"
      },
      "outputs": [],
      "source": [
        "# Define the path\n",
        "path='/content/drive/MyDrive/A02_RemoteSensingData/UHS_2013_DFTC/'"
      ]
    },
    {
      "cell_type": "code",
      "execution_count": 6,
      "id": "3d23b73f",
      "metadata": {
        "colab": {
          "base_uri": "https://localhost:8080/"
        },
        "id": "3d23b73f",
        "outputId": "d7ddb816-a561-4f97-c470-9967abc4f151"
      },
      "outputs": [
        {
          "output_type": "stream",
          "name": "stdout",
          "text": [
            "hsi_2013_data shape: (349, 1905, 144)\n",
            "Lidar_2013_data shape: (349, 1905, 1)\n",
            "gt_2013_data.shape: (349, 1905)\n"
          ]
        }
      ],
      "source": [
        "# 2.1 Loads Data\n",
        "# Load hyperpsectral data\n",
        "hsi_2013_data=sio.loadmat(path+'2013_IEEE_GRSS_DF_Contest_CASI_349_1905_144.mat')['ans']\n",
        "print('hsi_2013_data shape:', hsi_2013_data.shape)\n",
        "\n",
        "# Loader Lidar  data\n",
        "import mat73\n",
        "lidar_2013_data = sio.loadmat(path+'2013_IEEE_GRSS_DF_Contest_LiDAR.mat')['LiDAR_data']\n",
        "\n",
        "print('Lidar_2013_data shape:', lidar_2013_data.shape)\n",
        "\n",
        "#Load ground truth labels\n",
        "gt_2013_data=sio.loadmat(path+'GRSS2013.mat')['name']\n",
        "print('gt_2013_data.shape:', gt_2013_data.shape)"
      ]
    },
    {
      "cell_type": "markdown",
      "id": "002fcb4c",
      "metadata": {
        "id": "002fcb4c"
      },
      "source": [
        "# 2.0 Data Preprocessing & Dataloader Preparation"
      ]
    },
    {
      "cell_type": "code",
      "execution_count": 7,
      "id": "690eba9c",
      "metadata": {
        "colab": {
          "base_uri": "https://localhost:8080/"
        },
        "id": "690eba9c",
        "outputId": "cacc8d45-8d9a-4d6f-f4a2-f3d2d6e666ec"
      },
      "outputs": [
        {
          "output_type": "stream",
          "name": "stdout",
          "text": [
            "{1: {'class_name': 'Healthy grass', 'training_sample': 198, 'test_sample': 1053, 'total_samples': 1251}, 2: {'class_name': 'Stressed grass', 'training_sample': 190, 'test_sample': 1064, 'total_samples': 1254}, 3: {'class_name': 'Synthetic grass', 'training_sample': 192, 'test_sample': 505, 'total_samples': 697}, 4: {'class_name': 'Trees', 'training_sample': 188, 'test_sample': 1058, 'total_samples': 1244}, 5: {'class_name': 'Soil', 'training_sample': 186, 'test_sample': 1056, 'total_samples': 1242}, 6: {'class_name': 'Water', 'training_sample': 182, 'test_sample': 141, 'total_samples': 325}, 7: {'class_name': 'Residential', 'training_sample': 196, 'test_sample': 1072, 'total_samples': 1268}, 8: {'class_name': 'Commercial', 'training_sample': 191, 'test_sample': 1053, 'total_samples': 1244}, 9: {'class_name': 'Road', 'training_sample': 193, 'test_sample': 1059, 'total_samples': 1252}, 10: {'class_name': 'Highway', 'training_sample': 191, 'test_sample': 1036, 'total_samples': 1227}, 11: {'class_name': 'Railway', 'training_sample': 181, 'test_sample': 1054, 'total_samples': 1235}, 12: {'class_name': 'Parking lot 1', 'training_sample': 192, 'test_sample': 1041, 'total_samples': 1233}, 13: {'class_name': 'Parking lot 2', 'training_sample': 184, 'test_sample': 285, 'total_samples': 469}, 14: {'class_name': 'Tennis court', 'training_sample': 181, 'test_sample': 247, 'total_samples': 428}, 15: {'class_name': 'Running track', 'training_sample': 187, 'test_sample': 473, 'total_samples': 660}}\n"
          ]
        }
      ],
      "source": [
        "# 2.1 Define the class information\n",
        "class_info = [(1, \"Healthy grass\", 'training_sample', 198, 'test_sample', 1053,  'total', 1251),\n",
        "    (2, \"Stressed grass\",'training_sample', 190, 'test_sample', 1064,  'total', 1254),\n",
        "    (3, \"Synthetic grass\", 'training_sample', 192, 'test_sample', 505,  'total', 697),\n",
        "    (4, \"Trees\", 'training_sample', 188, 'test_sample', 1058,  'total', 1244),\n",
        "    (5, \"Soil\",'training_sample', 186, 'test_sample', 1056,  'total', 1242),\n",
        "    (6, \"Water\", 'training_sample', 182, 'test_sample', 141,  'total', 325),\n",
        "    (7, \"Residential\", 'training_sample', 196, 'test_sample', 1072,  'total', 1268),\n",
        "    (8, \"Commercial\", 'training_sample', 191, 'test_sample', 1053,  'total', 1244),\n",
        "    (9, \"Road\", 'training_sample', 193, 'test_sample', 1059,  'total', 1252),\n",
        "    (10, \"Highway\", 'training_sample', 191, 'test_sample', 1036,  'total', 1227),\n",
        "    (11, \"Railway\", 'training_sample', 181, 'test_sample', 1054,  'total', 1235),\n",
        "    (12, \"Parking lot 1\", 'training_sample', 192, 'test_sample', 1041,  'total', 1233),\n",
        "    (13, \"Parking lot 2\", 'training_sample', 184, 'test_sample',285,  'total', 469),\n",
        "    (14, \"Tennis court\",'training_sample', 181, 'test_sample', 247,  'total', 428),\n",
        "    (15, \"Running track\", 'training_sample', 187, 'test_sample', 473,  'total', 660)]\n",
        "\n",
        "# Create a dictionary to store class number, class name, and class samples\n",
        "class_dict = {class_number: {\"class_name\": class_name,\n",
        "                             'training_sample': training_sample,\n",
        "                             'test_sample': test_sample,\n",
        "                             \"total_samples\": total}\n",
        "              for class_number, class_name, _, training_sample, _, test_sample, _, total in class_info}\n",
        "\n",
        "print(class_dict)"
      ]
    },
    {
      "cell_type": "markdown",
      "id": "8D-fNrGQIQFT",
      "metadata": {
        "id": "8D-fNrGQIQFT"
      },
      "source": [
        "### 2.1  Samples Extraction"
      ]
    },
    {
      "cell_type": "code",
      "execution_count": 8,
      "id": "a9615e24",
      "metadata": {
        "colab": {
          "base_uri": "https://localhost:8080/"
        },
        "id": "a9615e24",
        "outputId": "33251904-6aea-454e-fcd4-114ebbbd7352"
      },
      "outputs": [
        {
          "output_type": "stream",
          "name": "stdout",
          "text": [
            "hsi_samples shape: (15029, 9, 9, 144)\n",
            "lidar_samples shape: (15029, 9, 9, 1)\n",
            "labels shape: (15029,)\n"
          ]
        }
      ],
      "source": [
        "# 2.2 Samples Extraction\n",
        "\n",
        "# # Create a mask with all class labels\n",
        "# mask = np.copy(gt_2013_data)\n",
        "\n",
        "# # Set the background class to 0\n",
        "# mask[mask == 0] = 0\n",
        "\n",
        "# Define patch size and stride\n",
        "patch_size = 9\n",
        "stride = 1\n",
        "\n",
        "# Create an empty list to store patches and labels\n",
        "hsi_samples = []\n",
        "lidar_samples = []\n",
        "labels = []\n",
        "\n",
        "# Initialize a dictionary to store class count\n",
        "class_count = {i: 0 for i in class_dict.keys()}\n",
        "\n",
        "# Function to check if all classes have the required number of samples\n",
        "def all_classes_completed(class_count, class_dict):\n",
        "    return all(class_count[class_num] == class_dict[class_num][\"total_samples\"] for class_num in class_dict.keys())\n",
        "\n",
        "while not all_classes_completed(class_count, class_dict):\n",
        "    # Loop through the ground truth data\n",
        "    for label in class_dict.keys():\n",
        "        # Get the coordinates of the ground truth pixels\n",
        "        #coords = np.argwhere((gt_2013_data == label) & (mask > 0))\n",
        "        coords = np.argwhere(gt_2013_data == label)\n",
        "\n",
        "        # Shuffle the coordinates to randomize the patch extraction\n",
        "        np.random.shuffle(coords)\n",
        "\n",
        "        for coord in coords:\n",
        "            i, j = coord\n",
        "            # Calculate the patch indices\n",
        "            i_start, i_end = i - patch_size // 2, i + patch_size // 2 + 1\n",
        "            j_start, j_end = j - patch_size // 2, j + patch_size // 2 + 1\n",
        "\n",
        "            # Check if the indices are within the bounds of the HSI data\n",
        "            if i_start >= 0 and i_end <= hsi_2013_data.shape[0] and j_start >= 0 and j_end <= hsi_2013_data.shape[1]:\n",
        "                # Extract the patch\n",
        "                hsi_patch = hsi_2013_data[i_start:i_end, j_start:j_end, :]\n",
        "\n",
        "                # Extract the LiDAR patch\n",
        "                lidar_patch = lidar_2013_data[i_start:i_end, j_start:j_end, :]\n",
        "\n",
        "                # If the class count is less than the required samples\n",
        "                if class_count[label] < class_dict[label][\"total_samples\"]:\n",
        "                    # Append the patch and its label to the list\n",
        "                    hsi_samples.append(hsi_patch)\n",
        "                    lidar_samples.append(lidar_patch)\n",
        "                    labels.append(label)\n",
        "                    class_count[label] += 1\n",
        "\n",
        "                    # If all classes have the required number of samples, exit the loop\n",
        "                    if all_classes_completed(class_count, class_dict):\n",
        "                        break\n",
        "\n",
        "# Convert the list of patches and labels into arrays\n",
        "hsi_samples = np.array(hsi_samples)\n",
        "lidar_samples = np.array(lidar_samples)\n",
        "labels = np.array(labels) # GT\n",
        "print('hsi_samples shape:', hsi_samples.shape)\n",
        "print('lidar_samples shape:', lidar_samples.shape)\n",
        "print('labels shape:', labels.shape)"
      ]
    },
    {
      "cell_type": "markdown",
      "id": "ifIwfC-C9ON9",
      "metadata": {
        "id": "ifIwfC-C9ON9"
      },
      "source": [
        "### 2.2 Training samples extraction"
      ]
    },
    {
      "cell_type": "code",
      "execution_count": 9,
      "id": "285f662c",
      "metadata": {
        "colab": {
          "base_uri": "https://localhost:8080/"
        },
        "id": "285f662c",
        "outputId": "2e701c84-c641-434c-daa4-1b4f773d2539"
      },
      "outputs": [
        {
          "output_type": "stream",
          "name": "stdout",
          "text": [
            "hsi_training_samples shape: (2832, 9, 9, 144)\n",
            "lidar_training_samples shape: (2832, 9, 9, 1)\n",
            "training_labels shape: (2832,)\n",
            "hsi_test_samples shape: (12197, 9, 9, 144)\n",
            "lidar_test_samples shape: (12197, 9, 9, 1)\n",
            "test_labels shape: (12197,)\n"
          ]
        }
      ],
      "source": [
        "#Avoid overlap of train and test\n",
        "# Extracting training samples\n",
        "hsi_training_samples, lidar_training_samples, training_labels = [], [], []\n",
        "used_indices = []  # To keep track of indices already taken for training samples\n",
        "\n",
        "for label, class_data in class_dict.items():\n",
        "    # Get indices of the current class\n",
        "    class_indices = np.where(labels == label)[0]\n",
        "\n",
        "    # Randomly shuffle the indices\n",
        "    np.random.shuffle(class_indices)\n",
        "\n",
        "    # Take the required number of training samples\n",
        "    train_indices = class_indices[:class_data[\"training_sample\"]]\n",
        "    used_indices.extend(train_indices)  # Add these to the used_indices list\n",
        "\n",
        "    # Append training samples\n",
        "    hsi_training_samples.extend(hsi_samples[train_indices])\n",
        "    lidar_training_samples.extend(lidar_samples[train_indices])\n",
        "    training_labels.extend(labels[train_indices])\n",
        "\n",
        "# Extracting test samples\n",
        "hsi_test_samples, lidar_test_samples, test_labels = [], [], []\n",
        "\n",
        "for label, class_data in class_dict.items():\n",
        "    class_indices = np.where(labels == label)[0]\n",
        "\n",
        "    # Exclude indices which were used for training\n",
        "    test_indices = np.setdiff1d(class_indices, used_indices)\n",
        "\n",
        "    # Append test samples\n",
        "    hsi_test_samples.extend(hsi_samples[test_indices])\n",
        "    lidar_test_samples.extend(lidar_samples[test_indices])\n",
        "    test_labels.extend(labels[test_indices])\n",
        "\n",
        "# Convert lists back to numpy arrays\n",
        "hsi_training_samples = np.array(hsi_training_samples)\n",
        "lidar_training_samples = np.array(lidar_training_samples)\n",
        "training_labels = np.array(training_labels)\n",
        "\n",
        "hsi_test_samples = np.array(hsi_test_samples)\n",
        "lidar_test_samples = np.array(lidar_test_samples)\n",
        "test_labels = np.array(test_labels)\n",
        "\n",
        "# Print shapes to verify\n",
        "print('hsi_training_samples shape:', hsi_training_samples.shape)\n",
        "print('lidar_training_samples shape:', lidar_training_samples.shape)\n",
        "print('training_labels shape:', training_labels.shape)\n",
        "\n",
        "print('hsi_test_samples shape:', hsi_test_samples.shape)\n",
        "print('lidar_test_samples shape:', lidar_test_samples.shape)\n",
        "print('test_labels shape:', test_labels.shape)\n"
      ]
    },
    {
      "cell_type": "code",
      "source": [
        "hsi_train=hsi_training_samples\n",
        "lidar_train=lidar_training_samples\n",
        "y_train=training_labels\n",
        "print('hsi_train_samples shape:', hsi_train.shape)\n",
        "print('lidar_train_samples shape:', lidar_train.shape)\n",
        "print('train_labels shape:', y_train.shape)\n",
        "hsi_test=hsi_test_samples\n",
        "lidar_test=lidar_test_samples\n",
        "y_test=test_labels\n",
        "print('hsi_test_samples shape:', hsi_test.shape)\n",
        "print('lidar_test_samples shape:', lidar_test.shape)\n",
        "print('y_test shape:', y_test.shape)"
      ],
      "metadata": {
        "colab": {
          "base_uri": "https://localhost:8080/"
        },
        "id": "pA6ObVdAmOtt",
        "outputId": "1239eb28-303d-48be-a86c-739395af716b"
      },
      "id": "pA6ObVdAmOtt",
      "execution_count": 10,
      "outputs": [
        {
          "output_type": "stream",
          "name": "stdout",
          "text": [
            "hsi_train_samples shape: (2832, 9, 9, 144)\n",
            "lidar_train_samples shape: (2832, 9, 9, 1)\n",
            "train_labels shape: (2832,)\n",
            "hsi_test_samples shape: (12197, 9, 9, 144)\n",
            "lidar_test_samples shape: (12197, 9, 9, 1)\n",
            "y_test shape: (12197,)\n"
          ]
        }
      ]
    },
    {
      "cell_type": "code",
      "source": [
        "from tensorflow.keras.utils import to_categorical\n",
        "\n",
        "# One hot encoding of labels\n",
        "# Substract 1 from labels\n",
        "#y_train_adj = augmented_training_labels - 1\n",
        "y_train_adj = training_labels - 1\n",
        "y_test_adj = y_test - 1\n",
        "\n",
        "# One hot encoding of labels\n",
        "y_train = to_categorical(y_train_adj, num_classes = 15, dtype =\"int32\")\n",
        "y_test = to_categorical(y_test_adj, num_classes = 15, dtype =\"int32\")\n",
        "\n",
        "print('y_train.shape:',y_train.shape)\n",
        "print('y_test.shape:',y_test.shape)"
      ],
      "metadata": {
        "colab": {
          "base_uri": "https://localhost:8080/"
        },
        "id": "riBpJLLFHa-3",
        "outputId": "15225a00-9697-4a73-f478-a73d09e4e01e"
      },
      "execution_count": 11,
      "outputs": [
        {
          "output_type": "stream",
          "name": "stdout",
          "text": [
            "y_train.shape: (2832, 15)\n",
            "y_test.shape: (12197, 15)\n"
          ]
        }
      ],
      "id": "riBpJLLFHa-3"
    },
    {
      "cell_type": "markdown",
      "id": "J7Ko9uYgIf2D",
      "metadata": {
        "id": "J7Ko9uYgIf2D"
      },
      "source": [
        "#3.0 Model Building"
      ]
    },
    {
      "cell_type": "markdown",
      "id": "u1rQcEYmVP_W",
      "metadata": {
        "id": "u1rQcEYmVP_W"
      },
      "source": [
        "### 3.1 Configuration"
      ]
    },
    {
      "cell_type": "code",
      "execution_count": 12,
      "id": "35qAdvCxIPJ8",
      "metadata": {
        "id": "35qAdvCxIPJ8"
      },
      "outputs": [],
      "source": [
        "# 3.1 Configuration\n",
        "class Config:\n",
        "    def __init__(self,in_channels,num_patches,kernel_size,patch_size,emb_size, dim,depth,heads,dim_head,mlp_dim,num_classes,dropout,pos_emb_size,class_emb_size,stride, ):\n",
        "        self.in_channels = in_channels\n",
        "        self.num_patches = num_patches\n",
        "        self.kernel_size = kernel_size\n",
        "        self.patch_size = patch_size\n",
        "        self.emb_size = emb_size\n",
        "        self.dim = dim\n",
        "        self.depth = depth\n",
        "        self.heads = heads\n",
        "        self.dim_head = dim_head\n",
        "        self.mlp_dim = mlp_dim\n",
        "        self.num_classes = num_classes\n",
        "        self.dropout = dropout\n",
        "        self.pos_emb_size = pos_emb_size\n",
        "        self.class_emb_size = class_emb_size\n",
        "        self.stride = stride\n"
      ]
    },
    {
      "cell_type": "markdown",
      "id": "U5T_YmiQespq",
      "metadata": {
        "id": "U5T_YmiQespq"
      },
      "source": [
        "### 3.2 EmbeddingPatches"
      ]
    },
    {
      "cell_type": "code",
      "source": [
        "class PatchEmbedding(nn.Module):\n",
        "    def __init__(self, config):\n",
        "        super().__init__()\n",
        "        self.proj = nn.Conv2d(\n",
        "            in_channels=config.in_channels,\n",
        "            out_channels=config.in_channels,  # Using in_channels for both in and out for simplicity\n",
        "            kernel_size=config.kernel_size,\n",
        "            stride=config.stride,\n",
        "        )\n",
        "        # Assuming you reintroduce and correctly configure the linear_proj layer\n",
        "        self.linear_proj = nn.Linear(config.in_channels, config.emb_size)  # Project spatial features\n",
        "        self.norm = nn.LayerNorm(config.emb_size)  # Adjusted to apply to each embedding vector\n",
        "        self.pos_embedding = nn.Parameter(torch.zeros(1, patch_size*patch_size, config.emb_size))  # Match the number of spatial positions\n",
        "\n",
        "    def forward(self, x):\n",
        "        B, C, H, W = x.shape\n",
        "        x = self.proj(x)  # Apply convolution\n",
        "        #x = x.squeeze(-1)  # Removing the last singleton dimension if present\n",
        "        #x = torch.squeeze(x, -1)  # Removing the batch dimension\n",
        "        # Squeeze the spatial dimensions into one\n",
        "        x = x.view(B, C, -1)  # Shape: [B, C, H*W]\n",
        "        x = x.permute(0, 2, 1)  # Change to [B, spatial_dim, emb_size]\n",
        "\n",
        "        x = self.linear_proj(x)  # Apply linear projection correctly\n",
        "\n",
        "        # No need to transpose or view here, as the shape [B, 81, 128] is already suitable\n",
        "        x = self.norm(x)  # Normalize each embedding vector\n",
        "        x += self.pos_embedding  # Add positional embeddings\n",
        "\n",
        "        return x\n"
      ],
      "metadata": {
        "id": "SFcK4y3aG6rw"
      },
      "id": "SFcK4y3aG6rw",
      "execution_count": 13,
      "outputs": []
    },
    {
      "cell_type": "code",
      "execution_count": 14,
      "id": "b8oC00YgYsSS",
      "metadata": {
        "id": "b8oC00YgYsSS"
      },
      "outputs": [],
      "source": [
        "#3.1.1 Parameters Setting\n",
        "# Hsi configuration\n",
        "hsi_config = Config(\n",
        "    in_channels=144,  # Each sample covers 144 bands\n",
        "    num_patches=144,  # 25*1*144 bands are grouped into 3600 groups\n",
        "    kernel_size=(1,1),  # Adjusted to match new patch size\n",
        "    patch_size=9,  # Adjusted to match new patch size (5*5, 144/24=6)\n",
        "    emb_size=128,  # Embedding size, this can be changed\n",
        "    dim=128,  # Dimension of the transformer, this can be changed\n",
        "    depth=3,  # Number of transformer layers, this can be changed\n",
        "    heads=8,  # Number of attention heads, this can be changed\n",
        "    dim_head=64,  # Dimension of each attention head, this can be changed\n",
        "    mlp_dim=256,  # Dimension of the MLP layer, this can be changed\n",
        "    num_classes=15,  # Number of classes, this can be changed\n",
        "    dropout=0.4,  # Dropout rate, this can be changed\n",
        "    pos_emb_size=128,  # Position embedding size, this can be changed\n",
        "    class_emb_size=128,  # Class embedding size, this can be changed\n",
        "    stride=1  # Stride for the convolution, this can be changed\n",
        ")\n",
        "\n",
        "\n",
        "# Lidara configuration\n",
        "lidar_config = Config(\n",
        "    in_channels=1,  # lidar group has 1 channels\n",
        "    num_patches=1,  # 1 band for Lidar\n",
        "    kernel_size=(1,1),  # Adjusted to match new patch size\n",
        "    patch_size=9, # Adjusted to match new patch size\n",
        "    emb_size=128,  # Embedding size, this can be changed\n",
        "    dim=128,  # Dimension of the transformer, this can be changed\n",
        "    depth=6,  # Number of transformer layers, this can be changed\n",
        "    heads=8,  # Number of attention heads, this can be changed\n",
        "    dim_head=64,  # Dimension of each attention head, this can be changed\n",
        "    mlp_dim=256,  # Dimension of the MLP layer, this can be changed\n",
        "    num_classes=15,  # Number of classes, this can be changed\n",
        "    dropout=0.4,  # Dropout rate, this can be changed\n",
        "    pos_emb_size=128,  # Position embedding size, this can be changed\n",
        "    class_emb_size=128,  # Class embedding size, this can be changed\n",
        "    stride=1  # Stride for the convolution, this can be changed\n",
        ")\n"
      ]
    },
    {
      "cell_type": "code",
      "execution_count": 15,
      "metadata": {
        "colab": {
          "base_uri": "https://localhost:8080/"
        },
        "outputId": "c64445c6-1e93-4c63-e9fc-5ff5cb3099ee",
        "id": "TlxJNQFa0bhs"
      },
      "outputs": [
        {
          "output_type": "stream",
          "name": "stdout",
          "text": [
            "hsi_batch sahpe before transpose: (2832, 9, 9, 144)\n",
            "lidar_batch sahpe before transpose: (2832, 9, 9, 1)\n",
            "hsi_batch sahpe after transpose: (2832, 144, 9, 9)\n",
            "lidar_batch shape after transpose: (2832, 1, 9, 9)\n"
          ]
        }
      ],
      "source": [
        "# Assume we have loaded one batch of HSI and LiDAR data\n",
        "hsi_batch = hsi_train # Shape: (2832, 5, 5, 144)\n",
        "lidar_batch = lidar_train # Shape: (2832, 5, 5, 1)\n",
        "print('hsi_batch sahpe before transpose:', hsi_batch.shape)\n",
        "print('lidar_batch sahpe before transpose:', lidar_batch.shape)\n",
        "# Transpose the data to have the channel dimension at the correct place\n",
        "hsi_batch = hsi_batch.transpose(0, 3, 1, 2)  # New shape: (2832, 144, 5, 5)\n",
        "lidar_batch = lidar_batch.transpose(0, 3, 1, 2)  # New shape: (2832, 1, 5, 5)\n",
        "print('hsi_batch sahpe after transpose:', hsi_batch.shape)\n",
        "print('lidar_batch shape after transpose:', lidar_batch.shape)"
      ],
      "id": "TlxJNQFa0bhs"
    },
    {
      "cell_type": "code",
      "execution_count": 17,
      "metadata": {
        "colab": {
          "base_uri": "https://localhost:8080/"
        },
        "outputId": "6a492c30-f443-4e8d-cbc4-e8017ed9e0a8",
        "id": "waa6Ddk-0bht"
      },
      "outputs": [
        {
          "output_type": "stream",
          "name": "stdout",
          "text": [
            "one_hsi_batch sahpe before transpose: (1, 9, 9, 144)\n",
            "one_lidar_batch sahpe before transpose: (1, 9, 9, 1)\n",
            "hsi_batch sahpe after transpose: (1, 144, 9, 9)\n",
            "lidar_batch shape after transpose: (1, 1, 9, 9)\n"
          ]
        }
      ],
      "source": [
        "# Assume we have loaded one batch of HSI and LiDAR data Verify the model\n",
        "one_hsi_batch = hsi_train[:1]  # Shape: (1, 5, 5, 144)\n",
        "one_lidar_batch = lidar_train[:1]  # Shape: (1, 5, 5, 1)\n",
        "print('one_hsi_batch sahpe before transpose:', one_hsi_batch.shape)\n",
        "print('one_lidar_batch sahpe before transpose:', one_lidar_batch.shape)\n",
        "# Transpose the data to have the channel dimension at the correct place\n",
        "one_hsi_batch = one_hsi_batch.transpose(0, 3, 1, 2)  # New shape: (1, 144, 5, 5)\n",
        "one_lidar_batch = one_lidar_batch.transpose(0, 3, 1, 2)  # New shape: (1, 1, 5, 5)\n",
        "print('hsi_batch sahpe after transpose:', one_hsi_batch.shape)\n",
        "print('lidar_batch shape after transpose:', one_lidar_batch.shape)"
      ],
      "id": "waa6Ddk-0bht"
    },
    {
      "cell_type": "code",
      "execution_count": 18,
      "metadata": {
        "colab": {
          "base_uri": "https://localhost:8080/"
        },
        "outputId": "419d1029-6458-4f73-fa73-8a3235ec4901",
        "id": "Rq2fwBYu0bht"
      },
      "outputs": [
        {
          "output_type": "stream",
          "name": "stdout",
          "text": [
            "one_hsi_batch_flat shape: torch.Size([1, 144, 81, 1])\n",
            "one_hsi_batch_embedded shape: torch.Size([1, 81, 128])\n"
          ]
        }
      ],
      "source": [
        "hsi_patch_embedding = PatchEmbedding(hsi_config).to(device)\n",
        "#lidar_patch_embedding = PatchEmbedding(lidar_config).to(device)\n",
        "\n",
        "# Assume we have loaded one batch of HSI and LiDAR data\n",
        "one_hsi_batch = hsi_train[:1]  # Shape: (1, 5, 5, 144)\n",
        "#one_lidar_batch = lidar_train[:1]  # Shape: (1, 5, 5, 1)\n",
        "\n",
        "# Now reshape HSI data such that spatial dimensions (5x5) are flattened and treated as channels\n",
        "one_hsi_batch_flat = torch.from_numpy(one_hsi_batch.astype(np.float32).reshape(1, hsi_config.in_channels, hsi_config.patch_size*patch_size,1)).to(device)\n",
        "#one_lidar_batch_flat = torch.from_numpy(one_lidar_batch.astype(np.float32).reshape(1, lidar_config.in_channels, lidar_config.patch_size*lidar_config.patch_size, 1)).to(device)\n",
        "print('one_hsi_batch_flat shape:', one_hsi_batch_flat.shape)\n",
        "# Initialize the patch embedding module\n",
        "hsi_patch_embedding = PatchEmbedding(hsi_config) #.to(device)\n",
        "#lidar_patch_embedding = PatchEmbedding(lidar_config) #.to(device)\n",
        "\n",
        "# Pass the data through the patch embedding module\n",
        "one_hsi_batch_embedded = hsi_patch_embedding(one_hsi_batch_flat) #.to(device)\n",
        "#one_lidar_batch_embedded = lidar_patch_embedding(one_lidar_batch_flat) #.to(device)\n",
        "\n",
        "print('one_hsi_batch_embedded shape:', one_hsi_batch_embedded.shape)\n",
        "#print('one_lidar_batch_embedded shape:', one_lidar_batch_embedded.shape)\n"
      ],
      "id": "Rq2fwBYu0bht"
    },
    {
      "cell_type": "markdown",
      "source": [
        "### 3.2.1 HSI Self-Attention"
      ],
      "metadata": {
        "id": "Lwj3I_xSu3hy"
      },
      "id": "Lwj3I_xSu3hy"
    },
    {
      "cell_type": "code",
      "source": [
        "class HSISelfAttention(nn.Module):\n",
        "    def __init__(self, config):\n",
        "        super(HSISelfAttention, self).__init__()\n",
        "        self.dim_head = config.dim_head\n",
        "        self.num_heads = config.heads\n",
        "        self.sqrt_dim_head = math.sqrt(self.dim_head)\n",
        "\n",
        "        # Layer normalization before Q, K, V projections\n",
        "        self.norm = nn.LayerNorm(config.dim)\n",
        "\n",
        "        self.to_q = nn.Linear(config.dim, self.dim_head * self.num_heads, bias=False)\n",
        "        self.to_k = nn.Linear(config.dim, self.dim_head * self.num_heads, bias=False)\n",
        "        self.to_v = nn.Linear(config.dim, self.dim_head * self.num_heads, bias=False)\n",
        "\n",
        "        self.to_out = nn.Linear(self.num_heads * self.dim_head, config.num_patches)\n",
        "\n",
        "    def forward(self, x):\n",
        "        B, N, _ = x.size()\n",
        "\n",
        "        x = self.norm(x)  # Apply normalization before attention\n",
        "\n",
        "        Q = self.to_q(x)\n",
        "        #print('Q before transformation shape:',Q.shape)\n",
        "        K = self.to_k(x)\n",
        "        #print('K before transformation shape:',K.shape)\n",
        "        V = self.to_v(x)\n",
        "        #print('V before transformation shape:',V.shape)\n",
        "\n",
        "        # Reshape Q, K, V for multi-head attention calculation\n",
        "        Q = Q.view(B, N, self.num_heads, self.dim_head).transpose(1, 2)  # [B, num_heads, 144, dim_head]\n",
        "        #print('Q shape:',Q.shape)\n",
        "        K = K.view(B, N, self.num_heads, self.dim_head).transpose(1, 2)  # [B, num_heads, 144, dim_head]\n",
        "        #print('K shape:',K.shape)\n",
        "        V = V.view(B, N, self.num_heads, self.dim_head).transpose(1, 2)  # [B, num_heads, 144, dim_head]\n",
        "        #print('V shape:',V.shape)\n",
        "\n",
        "        # Calculate attention scores\n",
        "        attn_scores = torch.matmul(Q, K.transpose(-2, -1)) / self.sqrt_dim_head\n",
        "        attn_weights = F.softmax(attn_scores, dim=-1)  # [B, num_heads, 144, 144]\n",
        "\n",
        "        # Transpose attention weights to have the correct shape\n",
        "        attn_weights = attn_weights.transpose(2, 3)  # [B, num_heads, 144, 144] -> [B, num_heads, 144, 144]\n",
        "\n",
        "        # Apply attention to V\n",
        "        attn_output = torch.matmul(attn_weights, V)  # [B, num_heads, 144, dim_head]\n",
        "\n",
        "        # Flatten the output\n",
        "        attn_output = attn_output.transpose(1, 2).reshape(B, -1, self.num_heads * self.dim_head)  # [B, 144, num_heads * dim_head]\n",
        "\n",
        "        # Project back to the original embedding space\n",
        "        attn_output = self.to_out(attn_output)  # [B, 144, emb_size]\n",
        "\n",
        "        return attn_output, attn_weights\n"
      ],
      "metadata": {
        "id": "pAUtlUKWQeq8"
      },
      "id": "pAUtlUKWQeq8",
      "execution_count": 19,
      "outputs": []
    },
    {
      "cell_type": "code",
      "source": [
        "class IntegratedHSIModel(nn.Module):\n",
        "    def __init__(self, patch_config, attn_config):\n",
        "        super(IntegratedHSIModel, self).__init__()\n",
        "        self.patch_embedding = PatchEmbedding(hsi_config)\n",
        "        self.attention = HSISelfAttention(hsi_config)\n",
        "\n",
        "    def forward(self, x):\n",
        "        # Pass input through patch embedding\n",
        "        embedded_patches = self.patch_embedding(x)\n",
        "\n",
        "        # Pass embedded patches through the self-attention mechanism\n",
        "        attn_output, attn_weights = self.attention(embedded_patches)\n",
        "\n",
        "        return attn_output, attn_weights"
      ],
      "metadata": {
        "id": "OXahUwEiRuCs"
      },
      "id": "OXahUwEiRuCs",
      "execution_count": 20,
      "outputs": []
    },
    {
      "cell_type": "code",
      "source": [
        "# Instance HSISelfAttention\n",
        "one_hsi_batch_float = one_hsi_batch.astype(np.float32)\n",
        "one_hsi_batch_tensor = torch.from_numpy(one_hsi_batch_float).to(device)\n",
        "print('one_hsi_batch_tensor shape:',one_hsi_batch_tensor.shape)\n",
        "# Assuming the necessary imports and configurations are done\n",
        "# Adjust `hsi_config.dim` if needed to match the actual input dimension after any necessary transformation\n",
        "\n",
        "# Flatten each 9x9 patch. This is just a placeholder for whatever transformation is appropriate.\n",
        "transformed_patches = one_hsi_batch_tensor.view(1, hsi_config.num_patches, -1)  # Resulting shape: [1, 144, 9*9]\n",
        "\n",
        "# Initialize HSISelfAttention with hsi_config\n",
        "hsi_attention = HSISelfAttention(hsi_config).to(device)\n",
        "\n",
        "# Ensure the necessary imports and configurations are done\n",
        "\n",
        "# Assuming one_hsi_batch_flat is prepared and shaped correctly for PatchEmbedding\n",
        "# And assuming hsi_patch_embedding has already been instantiated and moved to the appropriate device\n",
        "one_hsi_batch_embedded = hsi_patch_embedding(one_hsi_batch_flat)\n",
        "# Here, I assume your embedding dimension is 128 as per your configuration\n",
        "\n",
        "# Now, use the embedded output as input to the HSISelfAttention module\n",
        "# Assuming hsi_attention has been instantiated with the same configuration\n",
        "attn_output, attn_weights = hsi_attention(one_hsi_batch_embedded)\n",
        "\n",
        "# Print shapes to verify\n",
        "print(\"Attention output shape:\", attn_output.shape)\n",
        "print(\"Attention weights shape:\", attn_weights.shape)\n"
      ],
      "metadata": {
        "colab": {
          "base_uri": "https://localhost:8080/"
        },
        "id": "lZOzsuw6xa7D",
        "outputId": "94d6a933-9e71-4a08-ac80-d47dbcf20bb5"
      },
      "id": "lZOzsuw6xa7D",
      "execution_count": 21,
      "outputs": [
        {
          "output_type": "stream",
          "name": "stdout",
          "text": [
            "one_hsi_batch_tensor shape: torch.Size([1, 9, 9, 144])\n",
            "Attention output shape: torch.Size([1, 81, 144])\n",
            "Attention weights shape: torch.Size([1, 8, 81, 81])\n"
          ]
        }
      ]
    },
    {
      "cell_type": "markdown",
      "source": [
        "### 3.2.2 HSI+LIDAR SELF attention"
      ],
      "metadata": {
        "id": "e-f4mSfGvagq"
      },
      "id": "e-f4mSfGvagq"
    },
    {
      "cell_type": "markdown",
      "id": "7DyoAhpwF1WO",
      "metadata": {
        "id": "7DyoAhpwF1WO"
      },
      "source": [
        "### 3.2 Optianl Adding bandoutput"
      ]
    },
    {
      "cell_type": "markdown",
      "source": [
        "### 3.1  Integrated HSI+ patchEmbedding Model"
      ],
      "metadata": {
        "id": "VdHLABd6wYMN"
      },
      "id": "VdHLABd6wYMN"
    },
    {
      "cell_type": "code",
      "source": [
        "import torch\n",
        "import math\n",
        "import torch.nn as nn\n",
        "import torch.nn.functional as F\n",
        "import numpy as np\n",
        "import torch\n",
        "\n",
        "# Assuming Config, PatchEmbedding, HSISelfAttention, and IntegratedHSIModel classes are defined as per your snippets\n",
        "\n",
        "# Initialize the model with hsi_config\n",
        "model = IntegratedHSIModel(hsi_config,hsi_config)\n",
        "model.to(device)  # Move model to the configured device\n",
        "\n",
        "# Assume we have loaded one batch of HSI and LiDAR data\n",
        "one_hsi_batch = hsi_train[:1]  # Shape: (1, 5, 5, 144)\n",
        "print('one_hsi_batch sahpe before transpose:', one_hsi_batch.shape)\n",
        "# Transpose the data to have the channel dimension at the correct place\n",
        "one_hsi_batch = one_hsi_batch.transpose(0, 3, 1, 2)  # New shape: (1, 144, 5, 5)\n",
        "print('hsi_batch sahpe after transpose:', one_hsi_batch.shape)\n",
        "\n",
        "# Convert the NumPy array to float32 first\n",
        "one_hsi_batch_float = one_hsi_batch.astype(np.float32)\n",
        "\n",
        "# Then convert to a PyTorch tensor and move to the appropriate device\n",
        "one_hsi_batch_tensor = torch.from_numpy(one_hsi_batch_float).to(device)\n",
        "\n",
        "# Forward the HSI sample through the model\n",
        "attn_output, attn_weights = model(one_hsi_batch_tensor)\n",
        "\n",
        "# Print output shapes to verify\n",
        "print(\"Output shape:\", attn_output.shape)\n",
        "print(\"Attention scores shape:\", attn_weights.shape)\n"
      ],
      "metadata": {
        "colab": {
          "base_uri": "https://localhost:8080/"
        },
        "id": "bbdbvJThwgBP",
        "outputId": "076bbce2-f52e-48aa-fbbc-b36fac3f07b7"
      },
      "id": "bbdbvJThwgBP",
      "execution_count": 22,
      "outputs": [
        {
          "output_type": "stream",
          "name": "stdout",
          "text": [
            "one_hsi_batch sahpe before transpose: (1, 9, 9, 144)\n",
            "hsi_batch sahpe after transpose: (1, 144, 9, 9)\n",
            "Output shape: torch.Size([1, 81, 144])\n",
            "Attention scores shape: torch.Size([1, 8, 81, 81])\n"
          ]
        }
      ]
    },
    {
      "cell_type": "markdown",
      "source": [
        "### 3.3 Integrate HSI+LIDAR+ Integrated model"
      ],
      "metadata": {
        "id": "fMLbMcHCxPw5"
      },
      "id": "fMLbMcHCxPw5"
    },
    {
      "cell_type": "markdown",
      "id": "yem48RAvJSLH",
      "metadata": {
        "id": "yem48RAvJSLH"
      },
      "source": [
        "# 4.1  Training DataLoader for Cross Attention Module"
      ]
    },
    {
      "cell_type": "code",
      "execution_count": 23,
      "id": "1Sw5JbJ23X3n",
      "metadata": {
        "id": "1Sw5JbJ23X3n"
      },
      "outputs": [],
      "source": [
        "class HyperspectralDataset(Dataset):\n",
        "    def __init__(self, hsi_samples, lidar_samples, labels):\n",
        "        self.hsi_samples = hsi_samples\n",
        "        self.lidar_samples = lidar_samples\n",
        "        self.labels = labels\n",
        "\n",
        "    def __len__(self):\n",
        "        return len(self.hsi_samples)\n",
        "\n",
        "    def __getitem__(self, idx):\n",
        "        hsi_patch = self.hsi_samples[idx].float().to(device)\n",
        "        lidar_patch = self.lidar_samples[idx].float().to(device)\n",
        "        label = self.labels[idx]\n",
        "\n",
        "        # Convert label to a tensor and reshape to match the model's output shape\n",
        "        label = torch.tensor(label).repeat(hsi_patch.shape[1], 1).to(device)\n",
        "\n",
        "        return hsi_patch, lidar_patch, label\n"
      ]
    },
    {
      "cell_type": "code",
      "execution_count": 24,
      "id": "V-1Ahw-bTP9T",
      "metadata": {
        "colab": {
          "base_uri": "https://localhost:8080/"
        },
        "id": "V-1Ahw-bTP9T",
        "outputId": "e6281cb4-d63e-46c5-c555-e967dea306c3"
      },
      "outputs": [
        {
          "output_type": "stream",
          "name": "stdout",
          "text": [
            "labels_tensor: torch.Size([2832])\n",
            "Unique classes: tensor([ 0,  1,  2,  3,  4,  5,  6,  7,  8,  9, 10, 11, 12, 13, 14])\n"
          ]
        }
      ],
      "source": [
        "labels_tensor = torch.tensor(training_labels)\n",
        "labels_tensor -= 1  # Shift label values to the range [0, C-1]\n",
        "print('labels_tensor:',labels_tensor.shape)\n",
        "\n",
        "unique_classes = torch.unique(labels_tensor)\n",
        "print(\"Unique classes:\", unique_classes)"
      ]
    },
    {
      "cell_type": "code",
      "source": [
        "# Convert lists back to numpy arrays\n",
        "hsi_training_samples = np.array(hsi_training_samples)\n",
        "lidar_training_samples = np.array(lidar_training_samples)\n",
        "training_labels = np.array(training_labels)\n",
        "\n",
        "hsi_test_samples = np.array(hsi_test_samples)\n",
        "lidar_test_samples = np.array(lidar_test_samples)\n",
        "test_labels = np.array(test_labels)\n",
        "\n",
        "# Print shapes to verify\n",
        "print('hsi_training_samples shape:', hsi_training_samples.shape)\n",
        "print('lidar_training_samples shape:', lidar_training_samples.shape)\n",
        "print('training_labels shape:', training_labels.shape)\n",
        "\n",
        "print('hsi_test_samples shape:', hsi_test_samples.shape)\n",
        "print('lidar_test_samples shape:', lidar_test_samples.shape)\n",
        "print('test_labels shape:', test_labels.shape)\n"
      ],
      "metadata": {
        "colab": {
          "base_uri": "https://localhost:8080/"
        },
        "id": "f9qEDZTr8GYF",
        "outputId": "6f3c78d8-0341-4821-d486-cad275e5dbc6"
      },
      "id": "f9qEDZTr8GYF",
      "execution_count": 25,
      "outputs": [
        {
          "output_type": "stream",
          "name": "stdout",
          "text": [
            "hsi_training_samples shape: (2832, 9, 9, 144)\n",
            "lidar_training_samples shape: (2832, 9, 9, 1)\n",
            "training_labels shape: (2832,)\n",
            "hsi_test_samples shape: (12197, 9, 9, 144)\n",
            "lidar_test_samples shape: (12197, 9, 9, 1)\n",
            "test_labels shape: (12197,)\n"
          ]
        }
      ]
    },
    {
      "cell_type": "code",
      "source": [
        "import numpy as np\n",
        "\n",
        "# Assuming your data is already loaded into the variables as described\n",
        "\n",
        "# Expand the LiDAR channels to match HSI channels\n",
        "lidar_training_expanded = np.repeat(lidar_training_samples, 144, axis=-1)\n",
        "lidar_test_expanded = np.repeat(lidar_test_samples, 144, axis=-1)\n",
        "\n",
        "# Add the expanded LiDAR data to the HSI data\n",
        "combined_training_samples = hsi_training_samples + lidar_training_expanded\n",
        "combined_test_samples = hsi_test_samples + lidar_test_expanded\n",
        "\n",
        "# Print shapes to verify\n",
        "print('combined_training_samples shape:', combined_training_samples.shape)\n",
        "print('combined_test_samples shape:', combined_test_samples.shape)\n"
      ],
      "metadata": {
        "colab": {
          "base_uri": "https://localhost:8080/"
        },
        "id": "JVfwF5Qttf5O",
        "outputId": "06854867-1900-402e-b982-b8b1c18c3822"
      },
      "id": "JVfwF5Qttf5O",
      "execution_count": 26,
      "outputs": [
        {
          "output_type": "stream",
          "name": "stdout",
          "text": [
            "combined_training_samples shape: (2832, 9, 9, 144)\n",
            "combined_test_samples shape: (12197, 9, 9, 144)\n"
          ]
        }
      ]
    },
    {
      "cell_type": "code",
      "source": [
        "#Option 2 data input HSI+LIDAR\n",
        "hsi_training_samples=combined_training_samples\n",
        "hsi_test_samples=combined_test_samples"
      ],
      "metadata": {
        "id": "AxFgbSS1vQFk"
      },
      "id": "AxFgbSS1vQFk",
      "execution_count": 27,
      "outputs": []
    },
    {
      "cell_type": "code",
      "source": [
        "from sklearn.model_selection import train_test_split\n",
        "# Convert HSI and label data to PyTorch tensors\n",
        "hsi_train_tensor = torch.from_numpy(hsi_training_samples.astype(np.float32)).permute(0, 3, 1, 2)  # Shape: (batch, channels, height, width)\n",
        "training_labels_tensor = torch.from_numpy(training_labels.astype(np.int64))\n",
        "\n",
        "hsi_test_tensor = torch.from_numpy(hsi_test_samples.astype(np.float32)).permute(0, 3, 1, 2)  # Shape: (batch, channels, height, width)\n",
        "test_labels_tensor = torch.from_numpy(test_labels.astype(np.int64))\n",
        "\n",
        "# Split training data into training and validation sets\n",
        "hsi_samples_train, hsi_samples_val, labels_train, labels_val = train_test_split(\n",
        "    hsi_train_tensor, training_labels_tensor, test_size=0.1, random_state=42)\n",
        "\n",
        "# Define a dataset class for HSI data\n",
        "class HyperspectralDataset(Dataset):\n",
        "    def __init__(self, hsi_data, labels):\n",
        "        self.hsi_data = hsi_data\n",
        "        self.labels = labels\n",
        "\n",
        "    def __len__(self):\n",
        "        return len(self.labels)\n",
        "\n",
        "    def __getitem__(self, idx):\n",
        "        return self.hsi_data[idx], self.labels[idx]\n",
        "\n",
        "# Create datasets\n",
        "train_dataset = HyperspectralDataset(hsi_samples_train, labels_train)\n",
        "val_dataset = HyperspectralDataset(hsi_samples_val, labels_val)\n",
        "test_dataset = HyperspectralDataset(hsi_test_tensor, test_labels_tensor)\n",
        "\n",
        "# Create DataLoaders\n",
        "train_loader = DataLoader(train_dataset, batch_size=32, shuffle=True)\n",
        "val_loader = DataLoader(val_dataset, batch_size=32, shuffle=False)\n",
        "test_loader = DataLoader(test_dataset, batch_size=32, shuffle=False)\n",
        "\n",
        "print('DataLoaders for training, validation, and testing are ready.')\n",
        "\n"
      ],
      "metadata": {
        "id": "uStwGdhI9Qa7",
        "colab": {
          "base_uri": "https://localhost:8080/"
        },
        "outputId": "711815ed-4bc3-401b-c589-2657f5ecd073"
      },
      "id": "uStwGdhI9Qa7",
      "execution_count": 28,
      "outputs": [
        {
          "output_type": "stream",
          "name": "stdout",
          "text": [
            "DataLoaders for training, validation, and testing are ready.\n"
          ]
        }
      ]
    },
    {
      "cell_type": "markdown",
      "id": "_MBeu13kDLc6",
      "metadata": {
        "id": "_MBeu13kDLc6"
      },
      "source": [
        "# 4.2 Training CorssAttentionMode ltraining"
      ]
    },
    {
      "cell_type": "code",
      "source": [
        "import torch.nn as nn\n",
        "import torch.optim as optim\n",
        "from torch.utils.data import DataLoader\n",
        "import copy\n",
        "import torch\n",
        "\n",
        "model = IntegratedHSIModel(hsi_config,hsi_config)\n",
        "# Assuming the DataLoader and model have already been defined\n",
        "\n",
        "device = torch.device(\"cuda\" if torch.cuda.is_available() else \"cpu\")\n",
        "model.to(device)\n",
        "\n",
        "# Define the optimizer\n",
        "optimizer = optim.Adam(model.parameters(), lr=0.001)  # Adjust learning rate as needed\n",
        "\n",
        "# Define learning rate scheduler\n",
        "scheduler = optim.lr_scheduler.StepLR(optimizer, step_size=10, gamma=0.1)  # Adjust parameters as needed\n",
        "\n",
        "# Instantiate the loss function\n",
        "criterion = nn.CrossEntropyLoss()\n",
        "\n",
        "# Training loop\n",
        "best_val_loss = float('inf')\n",
        "best_model_wts = copy.deepcopy(model.state_dict())\n",
        "batch_size=32\n",
        "num_epochs = 50  # Set the number of epochs\n",
        "# Training loop\n",
        "for epoch in range(num_epochs):\n",
        "    model.train()  # Set model to training mode\n",
        "    running_loss = 0.0\n",
        "\n",
        "    for batch_idx, (hsi_batch, label_batch) in enumerate(train_loader):\n",
        "        #hsi_batch = hsi_batch.to(device)\n",
        "        #label_batch = label_batch.to(device)\n",
        "        hsi_batch = hsi_batch\n",
        "        label_batch = label_batch\n",
        "        # Forward pass\n",
        "        outputs, _ = model(hsi_batch)\n",
        "        #print(outputs.shape, label_batch.shape)\n",
        "\n",
        "        # Assuming your model's output is (batch_size, num_patches, num_classes),\n",
        "        # Assuming you want to average across the 512 dimension\n",
        "        outputs_avg = outputs.mean(dim=-1)  # # This will give us a shape of [32, 2]\n",
        "        #loss = criterion(outputs.view(-1, outputs.shape[-1]), label_batch)\n",
        "        loss = criterion(outputs_avg, label_batch)\n",
        "\n",
        "\n",
        "        # Backward and optimize\n",
        "        optimizer.zero_grad()\n",
        "        loss.backward()\n",
        "        optimizer.step()\n",
        "\n",
        "        running_loss += loss.item()\n",
        "\n",
        "        # Optional: Print loss every N batches\n",
        "        if (batch_idx + 1) % 10 == 0:\n",
        "            print(f'Epoch [{epoch+1}/{num_epochs}], Batch [{batch_idx+1}/{len(train_loader)}], Loss: {loss.item():.4f}')\n",
        "\n",
        "    scheduler.step()  # Update the learning rate\n",
        "\n",
        "# Validation loop\n",
        "model.eval()  # Set model to evaluation mode\n",
        "val_loss = 0.0\n",
        "with torch.no_grad():  # No need to track gradients during validation\n",
        "        for hsi_batch, label_batch in val_loader:\n",
        "            hsi_batch = hsi_batch.to(device)\n",
        "            label_batch = label_batch.to(device)\n",
        "\n",
        "            outputs, _ = model(hsi_batch)\n",
        "            outputs_avg = outputs.mean(dim=-1)  # # This will give us a shape of [32, 2]\n",
        "            loss = criterion(outputs_avg, label_batch)\n",
        "            val_loss += loss.item()\n",
        "\n",
        "# Calculate average validation loss\n",
        "avg_val_loss = val_loss / len(val_loader)\n",
        "print(f'Epoch [{epoch+1}/{num_epochs}] Validation Loss: {avg_val_loss:.4f}')\n",
        "\n",
        "# Check if this is the best model so far\n",
        "if avg_val_loss < best_val_loss:\n",
        "      print(f'Validation loss decreased ({best_val_loss:.4f} --> {avg_val_loss:.4f}). Saving model ...')\n",
        "      best_val_loss = avg_val_loss\n",
        "      best_model_wts = copy.deepcopy(model.state_dict())\n",
        "      # Save model weights\n",
        "      torch.save(model.state_dict(), 'best_model.pth')"
      ],
      "metadata": {
        "colab": {
          "base_uri": "https://localhost:8080/"
        },
        "id": "QVGdcCfVnJww",
        "outputId": "ea187108-7d6a-4523-adad-02d2795b0dc9"
      },
      "id": "QVGdcCfVnJww",
      "execution_count": null,
      "outputs": [
        {
          "output_type": "stream",
          "name": "stdout",
          "text": [
            "Epoch [1/50], Batch [10/80], Loss: 4.3757\n",
            "Epoch [1/50], Batch [20/80], Loss: 3.4286\n",
            "Epoch [1/50], Batch [30/80], Loss: 3.1925\n",
            "Epoch [1/50], Batch [40/80], Loss: 2.7279\n",
            "Epoch [1/50], Batch [50/80], Loss: 2.7620\n",
            "Epoch [1/50], Batch [60/80], Loss: 2.7057\n",
            "Epoch [1/50], Batch [70/80], Loss: 2.7340\n",
            "Epoch [1/50], Batch [80/80], Loss: 2.7208\n",
            "Epoch [2/50], Batch [10/80], Loss: 2.7125\n",
            "Epoch [2/50], Batch [20/80], Loss: 2.7132\n",
            "Epoch [2/50], Batch [30/80], Loss: 2.7050\n",
            "Epoch [2/50], Batch [40/80], Loss: 2.7027\n",
            "Epoch [2/50], Batch [50/80], Loss: 2.7178\n",
            "Epoch [2/50], Batch [60/80], Loss: 2.7065\n",
            "Epoch [2/50], Batch [70/80], Loss: 2.7007\n",
            "Epoch [2/50], Batch [80/80], Loss: 2.6981\n",
            "Epoch [3/50], Batch [10/80], Loss: 2.6978\n",
            "Epoch [3/50], Batch [20/80], Loss: 2.7081\n",
            "Epoch [3/50], Batch [30/80], Loss: 2.7172\n",
            "Epoch [3/50], Batch [40/80], Loss: 2.6832\n",
            "Epoch [3/50], Batch [50/80], Loss: 2.6945\n",
            "Epoch [3/50], Batch [60/80], Loss: 2.7076\n",
            "Epoch [3/50], Batch [70/80], Loss: 2.7211\n",
            "Epoch [3/50], Batch [80/80], Loss: 2.6738\n",
            "Epoch [4/50], Batch [10/80], Loss: 2.7207\n",
            "Epoch [4/50], Batch [20/80], Loss: 2.7112\n",
            "Epoch [4/50], Batch [30/80], Loss: 2.6687\n",
            "Epoch [4/50], Batch [40/80], Loss: 2.6608\n",
            "Epoch [4/50], Batch [50/80], Loss: 2.7227\n",
            "Epoch [4/50], Batch [60/80], Loss: 2.6945\n",
            "Epoch [4/50], Batch [70/80], Loss: 2.6838\n",
            "Epoch [4/50], Batch [80/80], Loss: 2.6890\n",
            "Epoch [5/50], Batch [10/80], Loss: 2.6903\n",
            "Epoch [5/50], Batch [20/80], Loss: 2.6981\n",
            "Epoch [5/50], Batch [30/80], Loss: 2.7069\n",
            "Epoch [5/50], Batch [40/80], Loss: 2.6953\n",
            "Epoch [5/50], Batch [50/80], Loss: 2.6686\n",
            "Epoch [5/50], Batch [60/80], Loss: 2.6519\n",
            "Epoch [5/50], Batch [70/80], Loss: 2.6683\n",
            "Epoch [5/50], Batch [80/80], Loss: 2.7660\n",
            "Epoch [6/50], Batch [10/80], Loss: 2.7202\n",
            "Epoch [6/50], Batch [20/80], Loss: 2.7244\n",
            "Epoch [6/50], Batch [30/80], Loss: 2.7057\n",
            "Epoch [6/50], Batch [40/80], Loss: 2.6913\n",
            "Epoch [6/50], Batch [50/80], Loss: 2.7182\n",
            "Epoch [6/50], Batch [60/80], Loss: 2.6831\n",
            "Epoch [6/50], Batch [70/80], Loss: 2.6972\n",
            "Epoch [6/50], Batch [80/80], Loss: 2.7023\n",
            "Epoch [7/50], Batch [10/80], Loss: 2.6467\n",
            "Epoch [7/50], Batch [20/80], Loss: 2.6902\n",
            "Epoch [7/50], Batch [30/80], Loss: 2.7386\n",
            "Epoch [7/50], Batch [40/80], Loss: 2.6530\n",
            "Epoch [7/50], Batch [50/80], Loss: 2.6748\n",
            "Epoch [7/50], Batch [60/80], Loss: 2.6428\n",
            "Epoch [7/50], Batch [70/80], Loss: 2.7256\n",
            "Epoch [7/50], Batch [80/80], Loss: 2.5317\n",
            "Epoch [8/50], Batch [10/80], Loss: 2.6300\n",
            "Epoch [8/50], Batch [20/80], Loss: 2.6880\n",
            "Epoch [8/50], Batch [30/80], Loss: 2.6631\n",
            "Epoch [8/50], Batch [40/80], Loss: 2.6463\n",
            "Epoch [8/50], Batch [50/80], Loss: 2.5619\n",
            "Epoch [8/50], Batch [60/80], Loss: 2.4567\n",
            "Epoch [8/50], Batch [70/80], Loss: 2.3889\n",
            "Epoch [8/50], Batch [80/80], Loss: 1.9172\n",
            "Epoch [9/50], Batch [10/80], Loss: 1.9321\n",
            "Epoch [9/50], Batch [20/80], Loss: 2.2003\n",
            "Epoch [9/50], Batch [30/80], Loss: 1.8497\n",
            "Epoch [9/50], Batch [40/80], Loss: 1.9172\n",
            "Epoch [9/50], Batch [50/80], Loss: 2.2754\n",
            "Epoch [9/50], Batch [60/80], Loss: 1.8360\n",
            "Epoch [9/50], Batch [70/80], Loss: 1.6486\n",
            "Epoch [9/50], Batch [80/80], Loss: 1.6847\n",
            "Epoch [10/50], Batch [10/80], Loss: 1.6183\n",
            "Epoch [10/50], Batch [20/80], Loss: 1.5466\n",
            "Epoch [10/50], Batch [30/80], Loss: 1.5884\n",
            "Epoch [10/50], Batch [40/80], Loss: 1.2381\n",
            "Epoch [10/50], Batch [50/80], Loss: 1.1458\n",
            "Epoch [10/50], Batch [60/80], Loss: 1.9011\n",
            "Epoch [10/50], Batch [70/80], Loss: 1.2811\n",
            "Epoch [10/50], Batch [80/80], Loss: 1.6078\n",
            "Epoch [11/50], Batch [10/80], Loss: 1.2789\n",
            "Epoch [11/50], Batch [20/80], Loss: 1.3230\n",
            "Epoch [11/50], Batch [30/80], Loss: 1.4761\n",
            "Epoch [11/50], Batch [40/80], Loss: 1.0555\n",
            "Epoch [11/50], Batch [50/80], Loss: 1.2129\n",
            "Epoch [11/50], Batch [60/80], Loss: 1.3753\n",
            "Epoch [11/50], Batch [70/80], Loss: 1.4072\n",
            "Epoch [11/50], Batch [80/80], Loss: 1.2305\n",
            "Epoch [12/50], Batch [10/80], Loss: 0.9720\n",
            "Epoch [12/50], Batch [20/80], Loss: 1.5074\n",
            "Epoch [12/50], Batch [30/80], Loss: 1.3463\n",
            "Epoch [12/50], Batch [40/80], Loss: 1.1066\n",
            "Epoch [12/50], Batch [50/80], Loss: 1.1993\n",
            "Epoch [12/50], Batch [60/80], Loss: 1.4225\n",
            "Epoch [12/50], Batch [70/80], Loss: 0.9614\n",
            "Epoch [12/50], Batch [80/80], Loss: 1.3227\n",
            "Epoch [13/50], Batch [10/80], Loss: 1.3231\n",
            "Epoch [13/50], Batch [20/80], Loss: 1.2131\n",
            "Epoch [13/50], Batch [30/80], Loss: 1.1589\n",
            "Epoch [13/50], Batch [40/80], Loss: 1.8225\n",
            "Epoch [13/50], Batch [50/80], Loss: 1.6015\n",
            "Epoch [13/50], Batch [60/80], Loss: 1.1375\n",
            "Epoch [13/50], Batch [70/80], Loss: 1.3774\n",
            "Epoch [13/50], Batch [80/80], Loss: 1.2911\n",
            "Epoch [14/50], Batch [10/80], Loss: 1.2098\n",
            "Epoch [14/50], Batch [20/80], Loss: 1.3724\n",
            "Epoch [14/50], Batch [30/80], Loss: 1.2823\n",
            "Epoch [14/50], Batch [40/80], Loss: 1.0667\n",
            "Epoch [14/50], Batch [50/80], Loss: 1.5087\n",
            "Epoch [14/50], Batch [60/80], Loss: 1.3308\n",
            "Epoch [14/50], Batch [70/80], Loss: 1.4609\n",
            "Epoch [14/50], Batch [80/80], Loss: 1.2666\n",
            "Epoch [15/50], Batch [10/80], Loss: 1.7911\n",
            "Epoch [15/50], Batch [20/80], Loss: 1.3752\n",
            "Epoch [15/50], Batch [30/80], Loss: 1.2968\n",
            "Epoch [15/50], Batch [40/80], Loss: 1.2617\n",
            "Epoch [15/50], Batch [50/80], Loss: 1.1160\n",
            "Epoch [15/50], Batch [60/80], Loss: 1.2477\n",
            "Epoch [15/50], Batch [70/80], Loss: 0.9190\n",
            "Epoch [15/50], Batch [80/80], Loss: 1.2151\n",
            "Epoch [16/50], Batch [10/80], Loss: 1.5038\n",
            "Epoch [16/50], Batch [20/80], Loss: 0.9360\n",
            "Epoch [16/50], Batch [30/80], Loss: 1.2818\n",
            "Epoch [16/50], Batch [40/80], Loss: 1.8755\n",
            "Epoch [16/50], Batch [50/80], Loss: 1.8102\n",
            "Epoch [16/50], Batch [60/80], Loss: 1.3790\n",
            "Epoch [16/50], Batch [70/80], Loss: 1.0844\n",
            "Epoch [16/50], Batch [80/80], Loss: 1.2917\n",
            "Epoch [17/50], Batch [10/80], Loss: 1.4352\n",
            "Epoch [17/50], Batch [20/80], Loss: 1.8924\n",
            "Epoch [17/50], Batch [30/80], Loss: 1.1929\n",
            "Epoch [17/50], Batch [40/80], Loss: 1.2282\n",
            "Epoch [17/50], Batch [50/80], Loss: 1.2049\n",
            "Epoch [17/50], Batch [60/80], Loss: 0.9690\n",
            "Epoch [17/50], Batch [70/80], Loss: 1.2937\n",
            "Epoch [17/50], Batch [80/80], Loss: 1.4134\n",
            "Epoch [18/50], Batch [10/80], Loss: 1.2764\n",
            "Epoch [18/50], Batch [20/80], Loss: 1.2332\n",
            "Epoch [18/50], Batch [30/80], Loss: 1.2310\n",
            "Epoch [18/50], Batch [40/80], Loss: 1.1625\n",
            "Epoch [18/50], Batch [50/80], Loss: 1.2978\n",
            "Epoch [18/50], Batch [60/80], Loss: 1.1814\n",
            "Epoch [18/50], Batch [70/80], Loss: 1.4561\n",
            "Epoch [18/50], Batch [80/80], Loss: 0.9944\n",
            "Epoch [19/50], Batch [10/80], Loss: 1.5417\n",
            "Epoch [19/50], Batch [20/80], Loss: 0.9915\n",
            "Epoch [19/50], Batch [30/80], Loss: 1.0817\n",
            "Epoch [19/50], Batch [40/80], Loss: 1.5089\n",
            "Epoch [19/50], Batch [50/80], Loss: 1.0679\n",
            "Epoch [19/50], Batch [60/80], Loss: 1.4759\n",
            "Epoch [19/50], Batch [70/80], Loss: 1.0889\n",
            "Epoch [19/50], Batch [80/80], Loss: 1.5092\n",
            "Epoch [20/50], Batch [10/80], Loss: 1.5535\n",
            "Epoch [20/50], Batch [20/80], Loss: 1.4411\n",
            "Epoch [20/50], Batch [30/80], Loss: 1.0973\n",
            "Epoch [20/50], Batch [40/80], Loss: 1.3727\n",
            "Epoch [20/50], Batch [50/80], Loss: 1.0887\n",
            "Epoch [20/50], Batch [60/80], Loss: 0.9541\n",
            "Epoch [20/50], Batch [70/80], Loss: 1.0310\n",
            "Epoch [20/50], Batch [80/80], Loss: 1.2440\n",
            "Epoch [21/50], Batch [10/80], Loss: 1.0990\n",
            "Epoch [21/50], Batch [20/80], Loss: 1.4165\n",
            "Epoch [21/50], Batch [30/80], Loss: 1.0315\n",
            "Epoch [21/50], Batch [40/80], Loss: 1.6829\n",
            "Epoch [21/50], Batch [50/80], Loss: 1.0755\n",
            "Epoch [21/50], Batch [60/80], Loss: 1.0623\n",
            "Epoch [21/50], Batch [70/80], Loss: 1.0952\n",
            "Epoch [21/50], Batch [80/80], Loss: 1.1612\n",
            "Epoch [22/50], Batch [10/80], Loss: 1.1011\n",
            "Epoch [22/50], Batch [20/80], Loss: 0.8476\n",
            "Epoch [22/50], Batch [30/80], Loss: 1.3424\n",
            "Epoch [22/50], Batch [40/80], Loss: 1.0600\n",
            "Epoch [22/50], Batch [50/80], Loss: 1.5259\n",
            "Epoch [22/50], Batch [60/80], Loss: 0.9912\n",
            "Epoch [22/50], Batch [70/80], Loss: 1.3066\n",
            "Epoch [22/50], Batch [80/80], Loss: 1.1313\n",
            "Epoch [23/50], Batch [10/80], Loss: 1.3135\n",
            "Epoch [23/50], Batch [20/80], Loss: 1.0185\n",
            "Epoch [23/50], Batch [30/80], Loss: 1.1078\n",
            "Epoch [23/50], Batch [40/80], Loss: 1.4787\n",
            "Epoch [23/50], Batch [50/80], Loss: 1.5730\n",
            "Epoch [23/50], Batch [60/80], Loss: 1.2232\n",
            "Epoch [23/50], Batch [70/80], Loss: 1.3541\n",
            "Epoch [23/50], Batch [80/80], Loss: 1.3160\n",
            "Epoch [24/50], Batch [10/80], Loss: 1.0528\n",
            "Epoch [24/50], Batch [20/80], Loss: 1.1597\n",
            "Epoch [24/50], Batch [30/80], Loss: 1.1250\n",
            "Epoch [24/50], Batch [40/80], Loss: 1.1955\n",
            "Epoch [24/50], Batch [50/80], Loss: 0.9688\n",
            "Epoch [24/50], Batch [60/80], Loss: 1.3761\n",
            "Epoch [24/50], Batch [70/80], Loss: 1.1598\n",
            "Epoch [24/50], Batch [80/80], Loss: 1.4596\n",
            "Epoch [25/50], Batch [10/80], Loss: 1.2785\n",
            "Epoch [25/50], Batch [20/80], Loss: 1.0395\n",
            "Epoch [25/50], Batch [30/80], Loss: 1.0462\n",
            "Epoch [25/50], Batch [40/80], Loss: 1.1597\n",
            "Epoch [25/50], Batch [50/80], Loss: 1.0805\n",
            "Epoch [25/50], Batch [60/80], Loss: 0.8427\n",
            "Epoch [25/50], Batch [70/80], Loss: 1.1835\n",
            "Epoch [25/50], Batch [80/80], Loss: 1.1596\n",
            "Epoch [26/50], Batch [10/80], Loss: 0.9653\n",
            "Epoch [26/50], Batch [20/80], Loss: 1.1186\n",
            "Epoch [26/50], Batch [30/80], Loss: 1.0332\n",
            "Epoch [26/50], Batch [40/80], Loss: 1.1657\n",
            "Epoch [26/50], Batch [50/80], Loss: 1.3842\n",
            "Epoch [26/50], Batch [60/80], Loss: 1.0231\n",
            "Epoch [26/50], Batch [70/80], Loss: 1.3750\n",
            "Epoch [26/50], Batch [80/80], Loss: 1.3694\n",
            "Epoch [27/50], Batch [10/80], Loss: 0.9823\n",
            "Epoch [27/50], Batch [20/80], Loss: 1.0570\n",
            "Epoch [27/50], Batch [30/80], Loss: 1.0869\n",
            "Epoch [27/50], Batch [40/80], Loss: 0.9630\n",
            "Epoch [27/50], Batch [50/80], Loss: 1.3888\n",
            "Epoch [27/50], Batch [60/80], Loss: 1.2475\n",
            "Epoch [27/50], Batch [70/80], Loss: 1.2421\n",
            "Epoch [27/50], Batch [80/80], Loss: 0.9812\n",
            "Epoch [28/50], Batch [10/80], Loss: 1.1936\n",
            "Epoch [28/50], Batch [20/80], Loss: 1.0886\n",
            "Epoch [28/50], Batch [30/80], Loss: 1.2486\n",
            "Epoch [28/50], Batch [40/80], Loss: 0.9106\n",
            "Epoch [28/50], Batch [50/80], Loss: 1.2349\n",
            "Epoch [28/50], Batch [60/80], Loss: 1.2888\n",
            "Epoch [28/50], Batch [70/80], Loss: 1.0074\n",
            "Epoch [28/50], Batch [80/80], Loss: 1.1350\n",
            "Epoch [29/50], Batch [10/80], Loss: 1.0110\n",
            "Epoch [29/50], Batch [20/80], Loss: 1.3887\n",
            "Epoch [29/50], Batch [30/80], Loss: 1.0084\n",
            "Epoch [29/50], Batch [40/80], Loss: 1.2935\n",
            "Epoch [29/50], Batch [50/80], Loss: 1.0073\n",
            "Epoch [29/50], Batch [60/80], Loss: 0.8603\n",
            "Epoch [29/50], Batch [70/80], Loss: 1.2986\n",
            "Epoch [29/50], Batch [80/80], Loss: 1.2296\n",
            "Epoch [30/50], Batch [10/80], Loss: 0.9678\n",
            "Epoch [30/50], Batch [20/80], Loss: 1.1129\n",
            "Epoch [30/50], Batch [30/80], Loss: 1.5152\n",
            "Epoch [30/50], Batch [40/80], Loss: 0.8699\n",
            "Epoch [30/50], Batch [50/80], Loss: 1.0576\n",
            "Epoch [30/50], Batch [60/80], Loss: 0.9428\n",
            "Epoch [30/50], Batch [70/80], Loss: 1.6505\n",
            "Epoch [30/50], Batch [80/80], Loss: 1.1743\n",
            "Epoch [31/50], Batch [10/80], Loss: 0.9486\n",
            "Epoch [31/50], Batch [20/80], Loss: 0.8106\n",
            "Epoch [31/50], Batch [30/80], Loss: 1.1252\n",
            "Epoch [31/50], Batch [40/80], Loss: 1.2365\n",
            "Epoch [31/50], Batch [50/80], Loss: 1.1959\n",
            "Epoch [31/50], Batch [60/80], Loss: 1.3277\n",
            "Epoch [31/50], Batch [70/80], Loss: 0.9514\n",
            "Epoch [31/50], Batch [80/80], Loss: 1.3207\n",
            "Epoch [32/50], Batch [10/80], Loss: 0.8678\n",
            "Epoch [32/50], Batch [20/80], Loss: 1.0925\n",
            "Epoch [32/50], Batch [30/80], Loss: 1.0714\n",
            "Epoch [32/50], Batch [40/80], Loss: 1.0285\n",
            "Epoch [32/50], Batch [50/80], Loss: 1.2417\n",
            "Epoch [32/50], Batch [60/80], Loss: 0.9642\n",
            "Epoch [32/50], Batch [70/80], Loss: 1.0917\n",
            "Epoch [32/50], Batch [80/80], Loss: 1.0746\n",
            "Epoch [33/50], Batch [10/80], Loss: 0.7209\n",
            "Epoch [33/50], Batch [20/80], Loss: 1.0085\n",
            "Epoch [33/50], Batch [30/80], Loss: 1.2326\n",
            "Epoch [33/50], Batch [40/80], Loss: 1.0592\n",
            "Epoch [33/50], Batch [50/80], Loss: 1.0056\n",
            "Epoch [33/50], Batch [60/80], Loss: 1.0905\n",
            "Epoch [33/50], Batch [70/80], Loss: 1.3643\n",
            "Epoch [33/50], Batch [80/80], Loss: 0.9338\n",
            "Epoch [34/50], Batch [10/80], Loss: 1.2763\n",
            "Epoch [34/50], Batch [20/80], Loss: 1.1666\n",
            "Epoch [34/50], Batch [30/80], Loss: 0.7758\n",
            "Epoch [34/50], Batch [40/80], Loss: 1.1610\n",
            "Epoch [34/50], Batch [50/80], Loss: 0.9502\n",
            "Epoch [34/50], Batch [60/80], Loss: 1.3579\n",
            "Epoch [34/50], Batch [70/80], Loss: 1.4156\n",
            "Epoch [34/50], Batch [80/80], Loss: 1.3037\n",
            "Epoch [35/50], Batch [10/80], Loss: 1.1243\n",
            "Epoch [35/50], Batch [20/80], Loss: 1.3719\n",
            "Epoch [35/50], Batch [30/80], Loss: 1.2387\n",
            "Epoch [35/50], Batch [40/80], Loss: 1.1275\n",
            "Epoch [35/50], Batch [50/80], Loss: 0.8582\n",
            "Epoch [35/50], Batch [60/80], Loss: 1.2446\n",
            "Epoch [35/50], Batch [70/80], Loss: 1.0144\n",
            "Epoch [35/50], Batch [80/80], Loss: 1.0719\n",
            "Epoch [36/50], Batch [10/80], Loss: 1.0559\n",
            "Epoch [36/50], Batch [20/80], Loss: 1.1597\n",
            "Epoch [36/50], Batch [30/80], Loss: 1.1558\n",
            "Epoch [36/50], Batch [40/80], Loss: 1.0920\n",
            "Epoch [36/50], Batch [50/80], Loss: 1.0456\n",
            "Epoch [36/50], Batch [60/80], Loss: 1.5026\n",
            "Epoch [36/50], Batch [70/80], Loss: 0.9839\n",
            "Epoch [36/50], Batch [80/80], Loss: 1.1600\n",
            "Epoch [37/50], Batch [10/80], Loss: 1.4127\n",
            "Epoch [37/50], Batch [20/80], Loss: 1.1470\n",
            "Epoch [37/50], Batch [30/80], Loss: 1.0275\n",
            "Epoch [37/50], Batch [40/80], Loss: 1.5233\n",
            "Epoch [37/50], Batch [50/80], Loss: 1.2426\n",
            "Epoch [37/50], Batch [60/80], Loss: 1.1529\n",
            "Epoch [37/50], Batch [70/80], Loss: 1.0994\n",
            "Epoch [37/50], Batch [80/80], Loss: 1.1134\n",
            "Epoch [38/50], Batch [10/80], Loss: 0.9746\n",
            "Epoch [38/50], Batch [20/80], Loss: 1.0365\n",
            "Epoch [38/50], Batch [30/80], Loss: 1.2040\n",
            "Epoch [38/50], Batch [40/80], Loss: 0.8632\n",
            "Epoch [38/50], Batch [50/80], Loss: 0.9472\n",
            "Epoch [38/50], Batch [60/80], Loss: 1.0995\n",
            "Epoch [38/50], Batch [70/80], Loss: 1.5514\n",
            "Epoch [38/50], Batch [80/80], Loss: 0.8107\n",
            "Epoch [39/50], Batch [10/80], Loss: 1.3055\n",
            "Epoch [39/50], Batch [20/80], Loss: 1.3271\n",
            "Epoch [39/50], Batch [30/80], Loss: 1.0071\n",
            "Epoch [39/50], Batch [40/80], Loss: 1.1707\n",
            "Epoch [39/50], Batch [50/80], Loss: 1.1716\n",
            "Epoch [39/50], Batch [60/80], Loss: 1.1409\n",
            "Epoch [39/50], Batch [70/80], Loss: 1.1308\n",
            "Epoch [39/50], Batch [80/80], Loss: 1.3992\n",
            "Epoch [40/50], Batch [10/80], Loss: 1.4884\n",
            "Epoch [40/50], Batch [20/80], Loss: 1.1892\n",
            "Epoch [40/50], Batch [30/80], Loss: 1.2475\n",
            "Epoch [40/50], Batch [40/80], Loss: 0.8896\n",
            "Epoch [40/50], Batch [50/80], Loss: 1.6007\n",
            "Epoch [40/50], Batch [60/80], Loss: 1.2981\n",
            "Epoch [40/50], Batch [70/80], Loss: 1.0880\n",
            "Epoch [40/50], Batch [80/80], Loss: 1.0817\n",
            "Epoch [41/50], Batch [10/80], Loss: 1.2346\n",
            "Epoch [41/50], Batch [20/80], Loss: 0.9853\n",
            "Epoch [41/50], Batch [30/80], Loss: 1.2188\n",
            "Epoch [41/50], Batch [40/80], Loss: 0.9698\n",
            "Epoch [41/50], Batch [50/80], Loss: 1.2677\n",
            "Epoch [41/50], Batch [60/80], Loss: 1.0584\n",
            "Epoch [41/50], Batch [70/80], Loss: 1.3476\n",
            "Epoch [41/50], Batch [80/80], Loss: 1.3285\n",
            "Epoch [42/50], Batch [10/80], Loss: 1.3621\n",
            "Epoch [42/50], Batch [20/80], Loss: 1.2710\n",
            "Epoch [42/50], Batch [30/80], Loss: 1.1489\n",
            "Epoch [42/50], Batch [40/80], Loss: 0.9570\n",
            "Epoch [42/50], Batch [50/80], Loss: 1.1754\n",
            "Epoch [42/50], Batch [60/80], Loss: 1.0839\n",
            "Epoch [42/50], Batch [70/80], Loss: 1.2261\n",
            "Epoch [42/50], Batch [80/80], Loss: 1.0933\n",
            "Epoch [43/50], Batch [10/80], Loss: 1.1079\n",
            "Epoch [43/50], Batch [20/80], Loss: 1.2536\n",
            "Epoch [43/50], Batch [30/80], Loss: 1.2192\n",
            "Epoch [43/50], Batch [40/80], Loss: 1.3124\n",
            "Epoch [43/50], Batch [50/80], Loss: 1.3277\n",
            "Epoch [43/50], Batch [60/80], Loss: 1.1848\n",
            "Epoch [43/50], Batch [70/80], Loss: 1.2369\n",
            "Epoch [43/50], Batch [80/80], Loss: 1.1976\n",
            "Epoch [44/50], Batch [10/80], Loss: 1.5084\n",
            "Epoch [44/50], Batch [20/80], Loss: 1.1590\n",
            "Epoch [44/50], Batch [30/80], Loss: 1.3312\n",
            "Epoch [44/50], Batch [40/80], Loss: 1.1543\n",
            "Epoch [44/50], Batch [50/80], Loss: 1.2550\n",
            "Epoch [44/50], Batch [60/80], Loss: 0.9539\n",
            "Epoch [44/50], Batch [70/80], Loss: 1.1749\n",
            "Epoch [44/50], Batch [80/80], Loss: 0.9237\n",
            "Epoch [45/50], Batch [10/80], Loss: 1.1760\n",
            "Epoch [45/50], Batch [20/80], Loss: 1.1708\n",
            "Epoch [45/50], Batch [30/80], Loss: 1.4516\n",
            "Epoch [45/50], Batch [40/80], Loss: 0.9117\n",
            "Epoch [45/50], Batch [50/80], Loss: 1.5059\n",
            "Epoch [45/50], Batch [60/80], Loss: 1.5546\n",
            "Epoch [45/50], Batch [70/80], Loss: 1.2822\n",
            "Epoch [45/50], Batch [80/80], Loss: 1.3710\n",
            "Epoch [46/50], Batch [10/80], Loss: 1.0319\n",
            "Epoch [46/50], Batch [20/80], Loss: 1.4825\n",
            "Epoch [46/50], Batch [30/80], Loss: 1.2145\n",
            "Epoch [46/50], Batch [40/80], Loss: 1.3640\n",
            "Epoch [46/50], Batch [50/80], Loss: 1.0493\n",
            "Epoch [46/50], Batch [60/80], Loss: 1.0202\n",
            "Epoch [46/50], Batch [70/80], Loss: 1.3364\n",
            "Epoch [46/50], Batch [80/80], Loss: 0.9968\n",
            "Epoch [47/50], Batch [10/80], Loss: 0.9486\n",
            "Epoch [47/50], Batch [20/80], Loss: 0.9660\n",
            "Epoch [47/50], Batch [30/80], Loss: 1.1157\n",
            "Epoch [47/50], Batch [40/80], Loss: 1.5781\n",
            "Epoch [47/50], Batch [50/80], Loss: 1.0678\n",
            "Epoch [47/50], Batch [60/80], Loss: 1.1956\n",
            "Epoch [47/50], Batch [70/80], Loss: 1.0814\n",
            "Epoch [47/50], Batch [80/80], Loss: 0.9728\n",
            "Epoch [48/50], Batch [10/80], Loss: 0.9995\n",
            "Epoch [48/50], Batch [20/80], Loss: 1.1037\n",
            "Epoch [48/50], Batch [30/80], Loss: 1.0797\n",
            "Epoch [48/50], Batch [40/80], Loss: 1.0355\n",
            "Epoch [48/50], Batch [50/80], Loss: 1.3919\n",
            "Epoch [48/50], Batch [60/80], Loss: 1.0611\n",
            "Epoch [48/50], Batch [70/80], Loss: 1.1804\n",
            "Epoch [48/50], Batch [80/80], Loss: 1.2181\n",
            "Epoch [49/50], Batch [10/80], Loss: 1.5293\n",
            "Epoch [49/50], Batch [20/80], Loss: 1.2849\n",
            "Epoch [49/50], Batch [30/80], Loss: 1.0469\n",
            "Epoch [49/50], Batch [40/80], Loss: 0.9604\n",
            "Epoch [49/50], Batch [50/80], Loss: 1.3857\n",
            "Epoch [49/50], Batch [60/80], Loss: 0.9720\n",
            "Epoch [49/50], Batch [70/80], Loss: 0.9811\n",
            "Epoch [49/50], Batch [80/80], Loss: 0.9363\n",
            "Epoch [50/50], Batch [10/80], Loss: 1.0662\n",
            "Epoch [50/50], Batch [20/80], Loss: 1.3099\n",
            "Epoch [50/50], Batch [30/80], Loss: 1.1945\n",
            "Epoch [50/50], Batch [40/80], Loss: 0.9650\n",
            "Epoch [50/50], Batch [50/80], Loss: 1.1155\n",
            "Epoch [50/50], Batch [60/80], Loss: 1.1448\n",
            "Epoch [50/50], Batch [70/80], Loss: 1.2133\n",
            "Epoch [50/50], Batch [80/80], Loss: 1.0241\n",
            "Epoch [50/50] Validation Loss: 1.3490\n",
            "Validation loss decreased (inf --> 1.3490). Saving model ...\n"
          ]
        }
      ]
    },
    {
      "cell_type": "code",
      "source": [
        "# Save the best model's weights\n",
        "torch.save(best_model_wts, 'best_model.pth')\n",
        "\n",
        "# To later load the saved model weights:\n",
        "model.load_state_dict(torch.load('best_model.pth'))\n",
        "model.to(device)  # Don't forget to move the model to the appropriate device\n"
      ],
      "metadata": {
        "colab": {
          "base_uri": "https://localhost:8080/"
        },
        "id": "URjchZoBVnw3",
        "outputId": "31f62694-ebdb-49d3-8a16-f0414cb53a7e"
      },
      "id": "URjchZoBVnw3",
      "execution_count": null,
      "outputs": [
        {
          "output_type": "execute_result",
          "data": {
            "text/plain": [
              "IntegratedHSIModel(\n",
              "  (patch_embedding): PatchEmbedding(\n",
              "    (proj): Conv2d(144, 144, kernel_size=(1, 1), stride=(1, 1))\n",
              "    (linear_proj): Linear(in_features=144, out_features=128, bias=True)\n",
              "    (norm): LayerNorm((128,), eps=1e-05, elementwise_affine=True)\n",
              "  )\n",
              "  (attention): HSISelfAttention(\n",
              "    (norm): LayerNorm((128,), eps=1e-05, elementwise_affine=True)\n",
              "    (to_q): Linear(in_features=128, out_features=512, bias=False)\n",
              "    (to_k): Linear(in_features=128, out_features=512, bias=False)\n",
              "    (to_v): Linear(in_features=128, out_features=512, bias=False)\n",
              "    (to_out): Linear(in_features=512, out_features=144, bias=True)\n",
              "  )\n",
              ")"
            ]
          },
          "metadata": {},
          "execution_count": 322
        }
      ]
    },
    {
      "cell_type": "markdown",
      "id": "oSKh2t4gJcGU",
      "metadata": {
        "id": "oSKh2t4gJcGU"
      },
      "source": [
        "# 5.0 Load Trained Model"
      ]
    },
    {
      "cell_type": "code",
      "execution_count": null,
      "id": "IrRolVFaKZy_",
      "metadata": {
        "colab": {
          "base_uri": "https://localhost:8080/"
        },
        "id": "IrRolVFaKZy_",
        "outputId": "2d3aeff7-7980-4de7-fc36-fff6277bbb6d"
      },
      "outputs": [
        {
          "output_type": "stream",
          "name": "stdout",
          "text": [
            "Model's state_dict:\n",
            "patch_embedding.pos_embedding \t torch.Size([1, 81, 128])\n",
            "patch_embedding.proj.weight \t torch.Size([144, 144, 1, 1])\n",
            "patch_embedding.proj.bias \t torch.Size([144])\n",
            "patch_embedding.linear_proj.weight \t torch.Size([128, 144])\n",
            "patch_embedding.linear_proj.bias \t torch.Size([128])\n",
            "patch_embedding.norm.weight \t torch.Size([128])\n",
            "patch_embedding.norm.bias \t torch.Size([128])\n",
            "attention.norm.weight \t torch.Size([128])\n",
            "attention.norm.bias \t torch.Size([128])\n",
            "attention.to_q.weight \t torch.Size([512, 128])\n",
            "attention.to_k.weight \t torch.Size([512, 128])\n",
            "attention.to_v.weight \t torch.Size([512, 128])\n",
            "attention.to_out.weight \t torch.Size([144, 512])\n",
            "attention.to_out.bias \t torch.Size([144])\n"
          ]
        }
      ],
      "source": [
        "# Load the model\n",
        "model = IntegratedHSIModel(hsi_config, lidar_config)\n",
        "model.load_state_dict(torch.load('best_model.pth'))\n",
        "model.eval()  # set the model to evaluation mode\n",
        "\n",
        "# Move the model to the GPU\n",
        "#\n",
        "# Print model's state_dict\n",
        "print(\"Model's state_dict:\")\n",
        "for param_tensor in model.state_dict():\n",
        "    print(param_tensor, \"\\t\", model.state_dict()[param_tensor].size())\n"
      ]
    },
    {
      "cell_type": "code",
      "execution_count": null,
      "id": "2OAS0mPPKi9O",
      "metadata": {
        "id": "2OAS0mPPKi9O",
        "outputId": "d55d5ac1-2b5c-406f-f129-2a8ebf443d93",
        "colab": {
          "base_uri": "https://localhost:8080/"
        }
      },
      "outputs": [
        {
          "output_type": "stream",
          "name": "stdout",
          "text": [
            "Model's state_dict:\n",
            "patch_embedding.pos_embedding \t tensor([[[ 0.0526,  0.0623, -0.0544,  ...,  0.0073, -0.0436,  0.0393],\n",
            "         [-0.1101,  0.0327, -0.0061,  ..., -0.2277,  0.0969, -0.0837],\n",
            "         [-0.0606, -0.0530,  0.0812,  ..., -0.1416,  0.0392, -0.0187],\n",
            "         ...,\n",
            "         [ 0.0712,  0.0934, -0.0685,  ..., -0.0435, -0.0429,  0.0521],\n",
            "         [ 0.0824,  0.0971, -0.0662,  ..., -0.0493, -0.0468,  0.0569],\n",
            "         [ 0.0823,  0.0987, -0.0652,  ..., -0.0534, -0.0426,  0.0504]]])\n",
            "patch_embedding.proj.weight \t tensor([[[[-0.0223]],\n",
            "\n",
            "         [[ 0.0056]],\n",
            "\n",
            "         [[-0.0748]],\n",
            "\n",
            "         ...,\n",
            "\n",
            "         [[ 0.0205]],\n",
            "\n",
            "         [[-0.0848]],\n",
            "\n",
            "         [[-0.0956]]],\n",
            "\n",
            "\n",
            "        [[[-0.0806]],\n",
            "\n",
            "         [[-0.0190]],\n",
            "\n",
            "         [[-0.0580]],\n",
            "\n",
            "         ...,\n",
            "\n",
            "         [[ 0.0566]],\n",
            "\n",
            "         [[ 0.0718]],\n",
            "\n",
            "         [[-0.0052]]],\n",
            "\n",
            "\n",
            "        [[[-0.0195]],\n",
            "\n",
            "         [[-0.0973]],\n",
            "\n",
            "         [[-0.0611]],\n",
            "\n",
            "         ...,\n",
            "\n",
            "         [[-0.0320]],\n",
            "\n",
            "         [[-0.0285]],\n",
            "\n",
            "         [[-0.0820]]],\n",
            "\n",
            "\n",
            "        ...,\n",
            "\n",
            "\n",
            "        [[[-0.0514]],\n",
            "\n",
            "         [[-0.0875]],\n",
            "\n",
            "         [[ 0.0010]],\n",
            "\n",
            "         ...,\n",
            "\n",
            "         [[ 0.0518]],\n",
            "\n",
            "         [[ 0.0796]],\n",
            "\n",
            "         [[ 0.0380]]],\n",
            "\n",
            "\n",
            "        [[[ 0.0297]],\n",
            "\n",
            "         [[-0.0341]],\n",
            "\n",
            "         [[-0.0507]],\n",
            "\n",
            "         ...,\n",
            "\n",
            "         [[-0.0333]],\n",
            "\n",
            "         [[-0.0184]],\n",
            "\n",
            "         [[ 0.0628]]],\n",
            "\n",
            "\n",
            "        [[[-0.0547]],\n",
            "\n",
            "         [[-0.0164]],\n",
            "\n",
            "         [[ 0.0885]],\n",
            "\n",
            "         ...,\n",
            "\n",
            "         [[ 0.0288]],\n",
            "\n",
            "         [[ 0.0220]],\n",
            "\n",
            "         [[ 0.0501]]]])\n",
            "patch_embedding.proj.bias \t tensor([ 0.0496,  0.0484,  0.0269,  0.0448, -0.0100, -0.0544,  0.0080,  0.0210,\n",
            "         0.0205,  0.0122,  0.0579,  0.0070,  0.0875, -0.0014,  0.0010, -0.0126,\n",
            "        -0.0529, -0.0167,  0.0545, -0.0368, -0.0829,  0.0233,  0.0090, -0.0064,\n",
            "        -0.0122, -0.0051, -0.0031, -0.0473, -0.0379,  0.0431,  0.0350,  0.0550,\n",
            "         0.0747,  0.0060, -0.0181,  0.0560,  0.0385, -0.0278,  0.0251, -0.0297,\n",
            "        -0.0350, -0.0004, -0.0392,  0.0212, -0.0383, -0.0281, -0.0242,  0.0274,\n",
            "         0.0459, -0.0346,  0.0023, -0.0115,  0.0235, -0.0120, -0.0502, -0.0594,\n",
            "         0.0031,  0.0293,  0.0678,  0.0200, -0.0816,  0.0078,  0.0583,  0.0092,\n",
            "        -0.0807, -0.0069, -0.0194,  0.0450, -0.0291,  0.0401, -0.0084,  0.0679,\n",
            "         0.0224, -0.0032, -0.0465, -0.0036,  0.0696, -0.0214,  0.0079, -0.0101,\n",
            "         0.0440,  0.0040, -0.0408,  0.0047, -0.0597,  0.0367, -0.0509, -0.0027,\n",
            "         0.0437,  0.0815,  0.0384, -0.0672, -0.0773,  0.0613, -0.0026, -0.0239,\n",
            "        -0.0689,  0.0636, -0.0221, -0.0479, -0.0349, -0.0877,  0.0251, -0.0694,\n",
            "        -0.0668,  0.0866,  0.0213, -0.0190,  0.0131, -0.0094,  0.0482, -0.0099,\n",
            "         0.0486, -0.0660,  0.0561,  0.0313,  0.0441, -0.0651,  0.0507, -0.0537,\n",
            "        -0.0163, -0.0236, -0.0031,  0.0785, -0.0531,  0.0626, -0.0684, -0.0009,\n",
            "         0.0463, -0.0377, -0.0224, -0.0151,  0.0359,  0.0164,  0.0630, -0.0081,\n",
            "         0.0109,  0.0192,  0.0349, -0.0033, -0.0002, -0.0630, -0.0938,  0.0126])\n",
            "patch_embedding.linear_proj.weight \t tensor([[ 0.0223, -0.0769,  0.0071,  ...,  0.0230, -0.0166,  0.0314],\n",
            "        [ 0.0742, -0.0822,  0.0878,  ..., -0.0028, -0.0043,  0.0578],\n",
            "        [ 0.0277, -0.1084, -0.0368,  ...,  0.0385,  0.0267,  0.0074],\n",
            "        ...,\n",
            "        [-0.0257,  0.0135, -0.0812,  ...,  0.0219, -0.0624, -0.0720],\n",
            "        [ 0.0311, -0.0062, -0.0973,  ...,  0.0716, -0.0606,  0.0765],\n",
            "        [ 0.0160,  0.0149, -0.0508,  ...,  0.0745,  0.0540, -0.0222]])\n",
            "patch_embedding.linear_proj.bias \t tensor([-0.0231, -0.0321, -0.0091, -0.0521, -0.0734,  0.0659, -0.0663, -0.0583,\n",
            "         0.0684, -0.0759,  0.0060,  0.0589, -0.0887,  0.0214,  0.1011,  0.0758,\n",
            "        -0.0315,  0.0572,  0.0028,  0.0624, -0.0785,  0.0371,  0.0077, -0.0269,\n",
            "         0.0125,  0.0517,  0.0666,  0.0549,  0.0539, -0.0798, -0.0416,  0.0035,\n",
            "         0.0496,  0.0357, -0.0236,  0.0728,  0.0241, -0.0097, -0.0567, -0.0406,\n",
            "        -0.0134, -0.1135,  0.0653,  0.0756,  0.0219, -0.0296,  0.0513,  0.0004,\n",
            "        -0.0868,  0.0227, -0.0007, -0.0240,  0.0460,  0.0189, -0.0306,  0.0336,\n",
            "         0.0678, -0.0642,  0.0575, -0.0522, -0.0380, -0.0117,  0.0414,  0.0624,\n",
            "        -0.0736, -0.0155,  0.0912, -0.0334,  0.0031,  0.0050, -0.0034, -0.0813,\n",
            "         0.0104, -0.0549,  0.0230, -0.0235,  0.0268,  0.0178,  0.0657,  0.0062,\n",
            "         0.0005, -0.0193, -0.0107,  0.0503, -0.0298,  0.0831, -0.1103,  0.0819,\n",
            "         0.0285, -0.0088,  0.0817, -0.0142, -0.0395,  0.0492, -0.0224,  0.0523,\n",
            "        -0.0101,  0.0154,  0.0840, -0.0010,  0.0706, -0.0075, -0.0718,  0.0473,\n",
            "         0.0415, -0.0493, -0.0776, -0.0630, -0.0403,  0.0735, -0.0503,  0.0207,\n",
            "         0.0798, -0.0448,  0.0342, -0.0318, -0.0704, -0.0198,  0.0469,  0.0298,\n",
            "         0.0098, -0.0049, -0.0653, -0.0813, -0.1190,  0.0798, -0.0168,  0.0510])\n",
            "patch_embedding.norm.weight \t tensor([0.9470, 0.9268, 0.9473, 0.9924, 0.9081, 0.9607, 0.9429, 0.9415, 0.9708,\n",
            "        0.9016, 0.8574, 1.0842, 0.9286, 0.9515, 0.9200, 0.9413, 0.9708, 1.0392,\n",
            "        1.0000, 0.9523, 0.9308, 0.9890, 0.9539, 0.9242, 0.9448, 0.9178, 1.0146,\n",
            "        0.9649, 0.9244, 0.9399, 0.9583, 0.9281, 0.8822, 0.8844, 0.9968, 0.9573,\n",
            "        0.9306, 1.0259, 0.9423, 0.9243, 0.9449, 0.9821, 0.9667, 0.9259, 0.9644,\n",
            "        1.1101, 0.9663, 0.9174, 1.0063, 0.9768, 0.9226, 0.8925, 0.9954, 0.9671,\n",
            "        0.9489, 0.8796, 1.0317, 0.9690, 1.0192, 0.9503, 0.9145, 0.9115, 0.9306,\n",
            "        0.9365, 0.9769, 0.9682, 0.9262, 0.9461, 0.9585, 0.9689, 0.9668, 0.9566,\n",
            "        0.9128, 0.9497, 0.9167, 0.9672, 0.9452, 0.9325, 0.9253, 0.9364, 0.9560,\n",
            "        0.9731, 0.9129, 0.9447, 0.9187, 0.9774, 0.9361, 0.9487, 0.9077, 0.9579,\n",
            "        0.9188, 0.9082, 0.9743, 0.9654, 0.9213, 0.9266, 0.9477, 0.9632, 0.9361,\n",
            "        0.9662, 0.9654, 0.9172, 0.9685, 0.9480, 0.9380, 0.9556, 0.9820, 0.9539,\n",
            "        0.9991, 0.9719, 0.8853, 0.9965, 0.9549, 0.9205, 0.9109, 1.0186, 0.9461,\n",
            "        0.9458, 0.9485, 1.0333, 0.9251, 0.9232, 0.9725, 0.9763, 0.8997, 0.9082,\n",
            "        0.9602, 0.9519])\n",
            "patch_embedding.norm.bias \t tensor([ 0.0171,  0.0212,  0.0464, -0.0164,  0.0627,  0.0659,  0.0096, -0.0433,\n",
            "        -0.0128,  0.0754,  0.0616,  0.0258, -0.0850,  0.0363,  0.0108,  0.0774,\n",
            "        -0.0051,  0.0027,  0.0497,  0.0834,  0.0180, -0.0173, -0.0112,  0.0560,\n",
            "         0.0327, -0.0070,  0.0477,  0.0267,  0.0003,  0.0613, -0.0220, -0.0078,\n",
            "        -0.1059, -0.0973,  0.0054,  0.0880,  0.0628,  0.0663,  0.0574,  0.0656,\n",
            "         0.0087,  0.0005, -0.0149, -0.0530, -0.0038, -0.0466,  0.0869,  0.0647,\n",
            "         0.0023,  0.0408,  0.0545,  0.0453, -0.0012,  0.0926,  0.0114, -0.0955,\n",
            "         0.0289,  0.0276, -0.0387, -0.0645, -0.0578,  0.0737, -0.0277,  0.0667,\n",
            "         0.0324,  0.0405,  0.0075, -0.0542,  0.0232, -0.0043,  0.0072, -0.0931,\n",
            "         0.0513,  0.0578,  0.0104, -0.0201, -0.0255,  0.0756,  0.0918,  0.0209,\n",
            "         0.0760, -0.0565, -0.0530, -0.0141,  0.0513, -0.0134,  0.0132, -0.0271,\n",
            "        -0.0832, -0.0046,  0.0006,  0.0608,  0.0134, -0.0135,  0.0490, -0.0730,\n",
            "        -0.0876, -0.0160,  0.0800, -0.0473, -0.0612, -0.0933, -0.0637,  0.0449,\n",
            "        -0.0119,  0.0497, -0.0077, -0.0896, -0.0071,  0.0006,  0.0598, -0.0122,\n",
            "        -0.0463, -0.0900,  0.0503, -0.0458, -0.0803, -0.0240,  0.0422, -0.0345,\n",
            "        -0.0673, -0.0866, -0.0292, -0.0084,  0.0289, -0.0575,  0.0051, -0.0321])\n",
            "attention.norm.weight \t tensor([1.0266, 1.0026, 1.0115, 1.0155, 1.0038, 1.0272, 1.0088, 1.0143, 1.0090,\n",
            "        1.0160, 0.9875, 1.0710, 1.0152, 1.0131, 1.0527, 1.0057, 1.0357, 1.1215,\n",
            "        0.9662, 1.0211, 1.0289, 1.0194, 1.0075, 1.0127, 1.0109, 1.0291, 1.0092,\n",
            "        1.0129, 1.0168, 1.0093, 1.0045, 1.0004, 1.0092, 1.0049, 1.0066, 1.0198,\n",
            "        1.0147, 0.9847, 1.0107, 1.0078, 0.9963, 1.0526, 1.0094, 1.0011, 0.9903,\n",
            "        1.1012, 1.0149, 1.0078, 0.9773, 0.9952, 0.9976, 1.0180, 0.9777, 1.0249,\n",
            "        1.0129, 1.0097, 1.0004, 1.0129, 1.0342, 1.0215, 1.0465, 1.0064, 1.0118,\n",
            "        1.0230, 0.9937, 1.0135, 1.0212, 1.0531, 0.9987, 0.9894, 1.0161, 1.0281,\n",
            "        1.0261, 0.9940, 1.0562, 0.9552, 1.0399, 1.0166, 1.0001, 0.9755, 1.0182,\n",
            "        1.0138, 1.0181, 1.0076, 1.0045, 1.0037, 1.0594, 1.0179, 1.0235, 0.9452,\n",
            "        1.0463, 1.0163, 1.0085, 1.0019, 1.0118, 1.0067, 1.0098, 1.0163, 1.0134,\n",
            "        1.0082, 1.0116, 1.0049, 1.0383, 0.9868, 0.9807, 0.9944, 1.0020, 1.0099,\n",
            "        0.9966, 1.0042, 1.0281, 0.9851, 1.0142, 1.0167, 1.0262, 1.0534, 1.0184,\n",
            "        1.0052, 1.0178, 0.9835, 1.0007, 1.0098, 1.0131, 1.0273, 1.0448, 1.0234,\n",
            "        0.9958, 0.9907])\n",
            "attention.norm.bias \t tensor([-4.3482e-03, -1.1050e-03, -8.4029e-03, -5.5879e-03, -1.0585e-02,\n",
            "        -4.9076e-03,  7.0018e-03,  9.8652e-03, -9.2707e-04, -2.7055e-03,\n",
            "         6.6112e-03, -1.2012e-02,  7.3758e-03,  2.0346e-03, -4.4072e-02,\n",
            "        -7.0836e-03,  1.8191e-02,  2.5965e-03, -3.0399e-02, -6.9970e-03,\n",
            "        -5.6919e-03, -1.2242e-02, -4.1395e-03, -3.5250e-03, -2.0231e-02,\n",
            "        -4.0486e-06, -2.6028e-02, -6.8345e-03, -2.2379e-03, -1.6880e-02,\n",
            "         3.5303e-02, -5.8856e-03,  1.8238e-03,  6.3720e-03,  1.4316e-02,\n",
            "        -7.2946e-03, -1.2657e-02, -2.4678e-02, -4.7388e-03, -8.8885e-03,\n",
            "        -4.2106e-03,  4.5236e-03,  7.3401e-03,  7.0710e-03, -1.5623e-02,\n",
            "         2.5100e-02, -1.5311e-02, -1.0403e-02,  1.2124e-02, -3.5918e-02,\n",
            "        -5.5743e-03, -1.0116e-02, -4.3919e-03, -1.2345e-02, -4.3526e-03,\n",
            "         1.4743e-02, -4.8882e-03, -5.0899e-03,  7.0595e-03,  1.1475e-02,\n",
            "         1.4121e-02, -8.1205e-03,  5.6464e-03,  1.0792e-02, -1.4545e-02,\n",
            "         7.6183e-03, -7.3775e-03,  1.7220e-02, -9.4580e-04,  2.4131e-02,\n",
            "        -2.5906e-02, -1.1678e-02, -4.8250e-03,  3.6039e-03, -4.8728e-04,\n",
            "        -3.9527e-02, -1.2039e-02, -1.3913e-02, -1.0546e-02,  2.3125e-02,\n",
            "        -1.4279e-02,  1.5220e-02,  1.1569e-02,  6.0341e-04, -4.2245e-03,\n",
            "         3.2888e-03,  2.6906e-03, -1.0109e-03,  5.2999e-03,  3.7060e-02,\n",
            "        -1.5500e-02, -1.0104e-02, -8.9651e-03, -5.0557e-03,  2.0912e-03,\n",
            "         1.3271e-02,  9.3835e-03,  5.4958e-03, -6.1268e-05,  1.9928e-02,\n",
            "         1.4938e-02,  7.3330e-03,  3.7810e-02, -1.2205e-02, -2.2366e-02,\n",
            "        -7.6581e-03, -6.4269e-03,  1.3942e-02,  9.5078e-04,  5.1498e-03,\n",
            "        -2.8360e-03,  1.6277e-02,  5.7192e-03,  1.1613e-02, -9.7306e-03,\n",
            "         1.7246e-02,  5.9350e-03, -6.9805e-05, -2.1968e-03,  1.8945e-02,\n",
            "         1.1401e-02,  6.4804e-03, -1.2106e-02, -5.5377e-03,  7.7472e-03,\n",
            "         1.4099e-02, -1.2294e-02,  2.0099e-02])\n",
            "attention.to_q.weight \t tensor([[-0.0469, -0.0862,  0.0360,  ...,  0.0903, -0.0441, -0.0992],\n",
            "        [-0.0591, -0.0167, -0.0138,  ...,  0.0323, -0.0563,  0.0180],\n",
            "        [ 0.0004,  0.0007, -0.0667,  ..., -0.0851, -0.0124,  0.0535],\n",
            "        ...,\n",
            "        [ 0.0647,  0.0640, -0.0215,  ...,  0.0741, -0.0461, -0.0303],\n",
            "        [ 0.0569,  0.0700,  0.0823,  ...,  0.0480,  0.0567, -0.0713],\n",
            "        [-0.0692, -0.0568,  0.0542,  ...,  0.0501,  0.0716,  0.0637]])\n",
            "attention.to_k.weight \t tensor([[-0.0463, -0.0521, -0.0751,  ...,  0.0786, -0.0661, -0.0259],\n",
            "        [ 0.0083,  0.0820,  0.0236,  ..., -0.0574,  0.0259,  0.0974],\n",
            "        [-0.0054, -0.0125, -0.0408,  ...,  0.0099,  0.0057, -0.0308],\n",
            "        ...,\n",
            "        [ 0.0526, -0.0095, -0.0740,  ...,  0.0763,  0.0539, -0.0778],\n",
            "        [ 0.0940, -0.0459, -0.1167,  ...,  0.0622, -0.0706,  0.1123],\n",
            "        [-0.0194, -0.0466, -0.0109,  ...,  0.0839, -0.0612, -0.0102]])\n",
            "attention.to_v.weight \t tensor([[-0.0263, -0.0941, -0.0641,  ..., -0.0064, -0.0765,  0.0691],\n",
            "        [ 0.0760, -0.0004, -0.0786,  ..., -0.0511,  0.0496, -0.0747],\n",
            "        [ 0.0686,  0.0611,  0.0642,  ..., -0.0558, -0.0602,  0.0474],\n",
            "        ...,\n",
            "        [ 0.0993, -0.0331,  0.0235,  ...,  0.0026, -0.0812,  0.0220],\n",
            "        [-0.0198,  0.0370,  0.0272,  ...,  0.0983, -0.0543, -0.1083],\n",
            "        [ 0.0293, -0.0302, -0.0416,  ...,  0.0091, -0.0271,  0.0763]])\n",
            "attention.to_out.weight \t tensor([[ 0.0454,  0.0316, -0.0423,  ..., -0.0256,  0.0581, -0.0681],\n",
            "        [ 0.0501, -0.0164,  0.0164,  ...,  0.0025,  0.0295,  0.0018],\n",
            "        [ 0.0409,  0.0062, -0.0248,  ...,  0.0004,  0.0234, -0.0419],\n",
            "        ...,\n",
            "        [ 0.0433, -0.0101, -0.0381,  ..., -0.0442, -0.0073, -0.0187],\n",
            "        [ 0.0205,  0.0195, -0.0375,  ..., -0.0191,  0.0596,  0.0068],\n",
            "        [-0.0217, -0.0046, -0.0428,  ..., -0.0455,  0.0363, -0.0118]])\n",
            "attention.to_out.bias \t tensor([-0.0047, -0.0048,  0.0049, -0.0029, -0.0369, -0.0071,  0.0337, -0.0113,\n",
            "         0.0063, -0.0206,  0.0192,  0.0226,  0.0253, -0.0215, -0.0358,  0.0216,\n",
            "         0.0290, -0.0423, -0.0246,  0.0282, -0.0036,  0.0182, -0.0375, -0.0117,\n",
            "        -0.0373, -0.0174, -0.0121,  0.0270,  0.0232, -0.0209,  0.0312, -0.0280,\n",
            "         0.0241, -0.0104,  0.0085,  0.0284,  0.0221,  0.0390, -0.0353,  0.0049,\n",
            "         0.0402,  0.0127,  0.0240,  0.0274, -0.0133, -0.0079,  0.0132, -0.0104,\n",
            "        -0.0027, -0.0302, -0.0231, -0.0383, -0.0403,  0.0127,  0.0254, -0.0348,\n",
            "        -0.0374,  0.0284,  0.0284,  0.0061, -0.0155, -0.0474, -0.0392,  0.0360,\n",
            "        -0.0011, -0.0193,  0.0111, -0.0170, -0.0206,  0.0113,  0.0053, -0.0279,\n",
            "         0.0034, -0.0212,  0.0061, -0.0401, -0.0129, -0.0014,  0.0238,  0.0103,\n",
            "        -0.0258,  0.0262,  0.0009, -0.0037, -0.0046, -0.0073, -0.0420, -0.0312,\n",
            "         0.0167, -0.0243, -0.0092,  0.0172, -0.0390, -0.0463, -0.0367,  0.0067,\n",
            "         0.0146,  0.0336,  0.0167,  0.0331,  0.0402,  0.0191,  0.0072,  0.0026,\n",
            "        -0.0337,  0.0019, -0.0240, -0.0459,  0.0097, -0.0102,  0.0236, -0.0181,\n",
            "        -0.0259,  0.0209,  0.0080, -0.0033, -0.0420, -0.0409,  0.0301,  0.0096,\n",
            "         0.0240,  0.0033,  0.0409,  0.0278,  0.0325, -0.0465,  0.0398,  0.0033,\n",
            "         0.0340, -0.0175,  0.0108,  0.0197,  0.0148,  0.0076,  0.0470,  0.0045,\n",
            "         0.0094, -0.0233,  0.0402, -0.0289,  0.0272, -0.0220,  0.0406, -0.0065])\n"
          ]
        }
      ],
      "source": [
        "# Print model's state_dict\n",
        "print(\"Model's state_dict:\")\n",
        "for param_tensor in model.state_dict():\n",
        "    print(param_tensor, \"\\t\", model.state_dict()[param_tensor])\n"
      ]
    },
    {
      "cell_type": "code",
      "execution_count": null,
      "id": "jOc5jb92pL6V",
      "metadata": {
        "id": "jOc5jb92pL6V"
      },
      "outputs": [],
      "source": [
        "model.eval()  # Set the model to evaluation mode\n",
        "attention_scores_list = []\n",
        "\n",
        "with torch.no_grad():  # No need to track gradients\n",
        "    for hsi_batch, _ in test_loader:\n",
        "        hsi_batch = hsi_batch.to(device)\n",
        "        outputs, _ = model(hsi_batch)  # Get attention scores\n",
        "        attention_scores_list.append(outputs.cpu())\n",
        "\n",
        "# Concatenate all attention scores for analysis\n",
        "all_attention_scores = torch.cat(attention_scores_list, dim=0)\n"
      ]
    },
    {
      "cell_type": "code",
      "source": [
        "all_attention_scores.shape"
      ],
      "metadata": {
        "colab": {
          "base_uri": "https://localhost:8080/"
        },
        "id": "hYz6z_iBXOCh",
        "outputId": "7f95c25a-6259-4914-b1bb-6cbe8a2f4a09"
      },
      "id": "hYz6z_iBXOCh",
      "execution_count": null,
      "outputs": [
        {
          "output_type": "execute_result",
          "data": {
            "text/plain": [
              "torch.Size([12197, 81, 144])"
            ]
          },
          "metadata": {},
          "execution_count": 325
        }
      ]
    },
    {
      "cell_type": "code",
      "source": [
        "# Assuming `all_attention_scores` is your pre-computed scores tensor with shape [12197, 81, 144]\n",
        "# And you need to apply softmax normalization across the 144 patch positions for each spatial feature\n",
        "\n",
        "normalized_attention_scores = torch.softmax(all_attention_scores, dim=-1)  # Apply softmax across patch positions\n",
        "normalized_attention_scores.shape"
      ],
      "metadata": {
        "colab": {
          "base_uri": "https://localhost:8080/"
        },
        "id": "6pZgXhyTp6h3",
        "outputId": "36473b31-361f-4f4a-fca1-e64aeb4c1b5f"
      },
      "id": "6pZgXhyTp6h3",
      "execution_count": null,
      "outputs": [
        {
          "output_type": "execute_result",
          "data": {
            "text/plain": [
              "torch.Size([12197, 81, 144])"
            ]
          },
          "metadata": {},
          "execution_count": 326
        }
      ]
    },
    {
      "cell_type": "markdown",
      "id": "7o9FUM2ILtVK",
      "metadata": {
        "id": "7o9FUM2ILtVK"
      },
      "source": [
        "# Band ( patche) Selection"
      ]
    },
    {
      "cell_type": "code",
      "source": [
        "import torch\n",
        "\n",
        "# Assuming `normalized_attention_scores` is your tensor with shape [12197, 81, 144]\n",
        "# where 12197 is the number of samples, 81 is the number of spatial features, and 144 is the number of positions\n",
        "\n",
        "# Step 1: Sum attention scores across all samples for each position\n",
        "# This collapses the sample dimension, resulting in a tensor of shape [81, 144]\n",
        "position_importance_scores = normalized_attention_scores.sum(dim=0)\n",
        "\n",
        "# Since the requirement is to find the importance score of each position (not band),\n",
        "# we need to aggregate across the spatial features (bands) as well\n",
        "# This results in a tensor of shape [144], where each element is the total attention score for each position\n",
        "position_total_scores = position_importance_scores.sum(dim=0)\n",
        "\n",
        "# Step 2: Calculate the average score per position by dividing by the number of samples\n",
        "position_average_scores = position_total_scores / normalized_attention_scores.size(0)\n",
        "\n",
        "# Step 3: Sort the positions by their average scores and identify the top 50\n",
        "# torch.sort returns both sorted values and indices, but we're interested in the indices (positions)\n",
        "sorted_scores, sorted_positions = torch.sort(position_average_scores, descending=True)\n",
        "top_50_positions = sorted_positions[:50]\n",
        "top_50_scores = sorted_scores[:50]\n",
        "\n",
        "print(\"Top 50 Positions:\", top_50_positions)\n",
        "print(\"Corresponding Average Attention Scores:\", top_50_scores)\n",
        "\n"
      ],
      "metadata": {
        "colab": {
          "base_uri": "https://localhost:8080/"
        },
        "id": "T27Mb1mpq-u_",
        "outputId": "5fc67ae4-dcc9-49df-9c9e-c1d22368b322"
      },
      "id": "T27Mb1mpq-u_",
      "execution_count": null,
      "outputs": [
        {
          "output_type": "stream",
          "name": "stdout",
          "text": [
            "Top 50 Positions: tensor([ 43, 106,  81, 137,  93, 119,  62,   5,   1,  91,  31,  56, 120,  79,\n",
            "         77,  35,  18,  74,  40, 118,  90,  59,  98, 135,  52,  17,  78,  69,\n",
            "         44, 124, 141,  73,  57, 133,  65,  36,  80, 112,  38, 108,  48,  12,\n",
            "         70, 123,  37,  26,  72,  99,  87, 104])\n",
            "Corresponding Average Attention Scores: tensor([15.0080,  6.1429,  5.0486,  4.2788,  3.2071,  3.1349,  2.5118,  2.3799,\n",
            "         1.8156,  1.5520,  1.4928,  1.3307,  1.2608,  1.1640,  1.0399,  0.9733,\n",
            "         0.8941,  0.8853,  0.8525,  0.7849,  0.7025,  0.6340,  0.6274,  0.6003,\n",
            "         0.5971,  0.5547,  0.5166,  0.5133,  0.5121,  0.4901,  0.4616,  0.4534,\n",
            "         0.4439,  0.4412,  0.4217,  0.4115,  0.4086,  0.4076,  0.4023,  0.4002,\n",
            "         0.3778,  0.3777,  0.3767,  0.3671,  0.3500,  0.3355,  0.2997,  0.2911,\n",
            "         0.2813,  0.2807])\n"
          ]
        }
      ]
    },
    {
      "cell_type": "code",
      "source": [
        "# HSI Self_attention top 50 band index\n",
        "bands_hsi_lid_self=[116,  25,  85, 113, 143,  94,  41, 120, 119,  76,  58,  23,  18,  11,10,  64, 118,  20,  75,  30,  59,  24,  14,   7,  22,  90,  16,  72, 47, 124,  73, 114,  32, 127,  13,  69,   0,  97,  39,  78, 132,  79, 112,   5,  83,  43,  99,  49,  29, 134]"
      ],
      "metadata": {
        "id": "42mMtMGSrr-_"
      },
      "id": "42mMtMGSrr-_",
      "execution_count": null,
      "outputs": []
    },
    {
      "cell_type": "code",
      "source": [
        "#HSI+LiDAR_self_attention top 50 bands\n",
        "bands_hsi_self=[ 43, 106,  81, 137,  93, 119,  62,   5,   1,  91,  31,  56, 120,  79, 77,  35,  18,  74,  40, 118,  90,  59,  98, 135,  52,  17,  78,  69, 44, 124, 141,  73,  57, 133,  65,  36,  80, 112,  38, 108,  48,  12,70, 123,  37,  26,  72,  99,  87, 104]"
      ],
      "metadata": {
        "id": "1BGBWQgFsCRf"
      },
      "id": "1BGBWQgFsCRf",
      "execution_count": null,
      "outputs": []
    },
    {
      "cell_type": "markdown",
      "id": "oqc6nZNfXKEN",
      "metadata": {
        "id": "oqc6nZNfXKEN"
      },
      "source": [
        "Calculate the variance of the feature vectors for each band across all samples and then find the bands with the maximum variance"
      ]
    },
    {
      "cell_type": "code",
      "execution_count": null,
      "id": "998fda90",
      "metadata": {
        "id": "998fda90"
      },
      "outputs": [],
      "source": [
        "#Patch_sixe=1\n",
        "bands_p1=[73, 100, 80, 101, 26, 40, 78, 121, 136, 107, 50, 122, 63, 113, 12, 141, 8, 139, 81, 127, 17, 116, 19, 125, 33, 128, 97, 36, 79, 142, 6, 134, 108, 55, 89, 75, 14, 46, 5, 72, 10, 35, 135, 96, 2, 130, 64, 129, 18, 37]"
      ]
    },
    {
      "cell_type": "code",
      "execution_count": null,
      "id": "1E-TAAxz8X7e",
      "metadata": {
        "id": "1E-TAAxz8X7e"
      },
      "outputs": [],
      "source": [
        "band_50=[115, 127, 63, 113, 54, 12, 60, 62, 4, 139, 50, 90, 51, 112, 75, 42, 11, 97, 106, 48, 1, 35, 109, 76, 81, 53, 124, 80, 137, 85, 125, 37, 105, 135, 58, 126, 7, 40, 15, 56, 19, 18, 3, 38, 21, 61, 138, 95, 118, 101]\n",
        "band_45=[115, 127, 63, 113, 54, 12, 60, 62, 4, 139, 50, 90, 51, 112, 75, 42, 11, 97, 106, 48, 1, 35, 109, 76, 81, 53, 124, 80, 137, 85, 125, 37, 105, 135, 58, 126, 7, 40, 15, 56, 19, 18, 3, 38, 21]\n",
        "band_40=[115, 127, 63, 113, 54, 12, 60, 62, 4, 139, 50, 90, 51, 112, 75, 42, 11, 97, 106, 48, 1, 35, 109, 76, 81, 53, 124, 80, 137, 85, 125, 37, 105, 135, 58, 126, 7, 40, 15, 56]\n",
        "band_35=[115, 127, 63, 113, 54, 12, 60, 62, 4, 139, 50, 90, 51, 112, 75, 42, 11, 97, 106, 48, 1, 35, 109, 76, 81, 53, 124, 80, 137, 85, 125, 37, 105, 135, 58]\n",
        "band_30=[115, 127, 63, 113, 54, 12, 60, 62, 4, 139, 50, 90, 51, 112, 75, 42, 11, 97, 106, 48, 1, 35, 109, 76, 81, 53, 124, 80, 137, 85]\n",
        "band_25=[115, 127, 63, 113, 54, 12, 60, 62, 4, 139, 50, 90, 51, 112, 75, 42, 11, 97, 106, 48, 1, 35, 109, 76, 81]\n",
        "band_20=[115, 127, 63, 113, 54, 12, 60, 62, 4, 139, 50, 90, 51, 112, 75, 42, 11, 97, 106, 48]\n",
        "band_15=[115, 127, 63, 113, 54, 12, 60, 62, 4, 139, 50, 90, 51, 112, 75]\n",
        "band_10=[115, 127, 63, 113, 54, 12, 60, 62, 4, 139]\n",
        "band_5=[115, 127, 63, 113, 54]\n",
        "band_80=[115, 127, 63, 113, 54, 12, 60, 62, 4, 139, 50, 90, 51, 112, 75, 42, 11, 97, 106, 48, 1, 35, 109, 76, 81, 53, 124, 80, 137, 85, 125, 37, 105, 135, 58, 126, 7, 40, 15, 56, 19, 18, 3, 38, 21, 61, 138, 95, 118, 101, 24, 73, 32, 141, 72, 131, 70, 49, 71, 65, 66, 45, 110, 93, 22, 16, 14, 123, 107, 100]\n",
        "band_75=[115, 127, 63, 113, 54, 12, 60, 62, 4, 139, 50, 90, 51, 112, 75, 42, 11, 97, 106, 48, 1, 35, 109, 76, 81, 53, 124, 80, 137, 85, 125, 37, 105, 135, 58, 126, 7, 40, 15, 56, 19, 18, 3, 38, 21, 61, 138, 95, 118, 101, 24, 73, 32, 141, 72, 131, 70, 49, 71, 65, 66, 45, 110, 93, 22]\n",
        "band_70=[115, 127, 63, 113, 54, 12, 60, 62, 4, 139, 50, 90, 51, 112, 75, 42, 11, 97, 106, 48, 1, 35, 109, 76, 81, 53, 124, 80, 137, 85, 125, 37, 105, 135, 58, 126, 7, 40, 15, 56, 19, 18, 3, 38, 21, 61, 138, 95, 118, 101, 24, 73, 32, 141, 72, 131, 70, 49, 71, 65]\n",
        "band_65=[115, 127, 63, 113, 54, 12, 60, 62, 4, 139, 50, 90, 51, 112, 75, 42, 11, 97, 106, 48, 1, 35, 109, 76, 81, 53, 124, 80, 137, 85, 125, 37, 105, 135, 58, 126, 7, 40, 15, 56, 19, 18, 3, 38, 21, 61, 138, 95, 118, 101, 24, 73, 32, 141, 72]\n",
        "band_60=[115, 127, 63, 113, 54, 12, 60, 62, 4, 139, 50, 90, 51, 112, 75, 42, 11, 97, 106, 48, 1, 35, 109, 76, 81, 53, 124, 80, 137, 85, 125, 37, 105, 135, 58, 126, 7, 40, 15, 56, 19, 18, 3, 38, 21, 61, 138, 95, 118, 101]\n",
        "band_55=[115, 127, 63, 113, 54, 12, 60, 62, 4, 139, 50, 90, 51, 112, 75, 42, 11, 97, 106, 48, 1, 35, 109, 76, 81, 53, 124, 80, 137, 85, 125, 37, 105, 135, 58, 126, 7, 40, 15, 56, 19, 18, 3, 38, 21]"
      ]
    },
    {
      "cell_type": "code",
      "execution_count": null,
      "id": "K_eC9BnwQtwr",
      "metadata": {
        "id": "K_eC9BnwQtwr"
      },
      "outputs": [],
      "source": [
        "bands_p3=[54, 49, 21, 142, 83, 20, 16, 15, 109, 112, 132, 100, 135, 113, 42, 23, 93, 130, 9, 104, 5, 76, 91, 14, 44, 26, 129, 99, 120, 77, 137, 29, 111, 46, 70, 38, 101, 75, 84, 48, 102, 60, 27, 126, 56, 61, 97, 78, 6, 36, 2, 87, 64, 95, 143, 68, 34, 69, 71, 79, 131, 28, 82, 96, 66, 58, 12, 106, 35, 40, 114, 17, 116, 57, 105, 88, 33, 107, 37, 136, 1, 51, 85, 62, 0, 8, 141, 32, 65, 92, 121, 89, 50, 138, 4, 22, 103, 39, 90, 127, 59, 98, 139, 53, 63, 119, 73, 43, 52, 118, 117, 110, 24, 125, 11, 123, 19, 86, 7, 74, 115, 67, 55, 80, 3, 41, 140, 31, 128, 124, 45, 122, 72, 10, 13, 108, 25, 133, 47, 81, 134, 30, 18, 94]"
      ]
    },
    {
      "cell_type": "code",
      "execution_count": null,
      "id": "8TdumuTVo6PE",
      "metadata": {
        "id": "8TdumuTVo6PE"
      },
      "outputs": [],
      "source": [
        "# patch_size=5\n",
        "bands_p5=[115, 127, 63, 113, 54, 12, 60, 62, 4, 139, 50, 90, 51, 112, 75, 42, 11, 97, 106, 48, 1, 35, 109, 76, 81, 53, 124, 80, 137, 85, 125, 37, 105, 135, 58, 126, 7, 40, 15, 56, 19, 18, 3, 38, 21, 61, 138, 95, 118, 101, 24, 73, 32, 141, 72, 131, 70, 49, 71, 65, 66, 45, 110, 93, 22, 16, 14, 123, 107, 100, 26, 6, 103, 79, 29, 92, 69, 5, 111, 128, 74, 31, 130, 102, 64, 9, 134, 67, 44, 34, 91, 89, 104, 121, 77, 86, 68, 59, 84, 114, 83, 119, 120, 43, 88, 55, 17, 133, 13, 116, 10, 98, 25, 39, 87, 23, 78, 27, 82, 96, 20, 108, 136, 140, 8, 28, 0, 132, 99, 94, 52, 47, 2, 142, 33, 57, 122, 143, 46, 30, 36, 117, 129, 41]"
      ]
    },
    {
      "cell_type": "code",
      "execution_count": null,
      "id": "yNBFu0zVo6Tg",
      "metadata": {
        "id": "yNBFu0zVo6Tg"
      },
      "outputs": [],
      "source": [
        "#Patch_size=7\n",
        "band_p7=[130, 3, 85, 23, 40, 82, 119, 127, 95, 131, 108, 47, 36, 63, 67, 114, 141, 99, 59, 10, 58, 84, 5, 73, 9, 50, 0, 35, 7, 20, 89, 129, 24, 57, 126, 93, 134, 55, 14, 103, 140, 38, 139, 21, 135, 48, 74, 115, 66, 136, 100, 52, 65, 18, 45, 56, 76, 111, 61, 107, 113, 68, 8, 17, 16, 44, 91, 81, 51, 27, 138, 53, 118, 109, 143, 1, 122, 120, 11, 70, 32, 69, 125, 62, 90, 33, 28, 37, 102, 34, 6, 12, 80, 77, 79, 49, 105, 72, 124, 83, 19, 54, 15, 117, 31, 43, 39, 106, 96, 98, 116, 112, 133, 71, 92, 86, 128, 78, 101, 26, 94, 87, 64, 22, 13, 30, 42, 25, 75, 123, 29, 41, 142, 121, 132, 137, 4, 110, 2, 104, 97, 60, 46, 88]"
      ]
    },
    {
      "cell_type": "code",
      "execution_count": null,
      "id": "8hEGaJzMeZEa",
      "metadata": {
        "id": "8hEGaJzMeZEa"
      },
      "outputs": [],
      "source": [
        "#Patch_size=9\n",
        "bands_p9=[42, 131, 71, 17, 56, 114, 47, 53, 124, 52, 139, 135, 50, 16, 48, 8, 11, 73, 99, 2, 63, 28, 88, 116, 32, 14, 133, 57, 102, 137, 15, 79, 132, 105, 120, 93, 80, 43, 81, 138, 142, 31, 97, 130, 34, 26, 110, 27, 134, 69, 39, 78, 37, 106, 77, 25, 29, 89, 95, 65, 141, 129, 18, 62, 91, 121, 58, 127, 118, 1, 19, 36, 30, 20, 128, 44, 104, 24, 107, 117, 0, 84, 21, 112, 4, 68, 125, 5, 103, 45, 33, 70, 111, 109, 23, 94, 136, 64, 12, 143, 85, 72, 122, 119, 83, 82, 38, 108, 66, 100, 55, 35, 40, 49, 101, 51, 3, 59, 9, 54, 41, 140, 86, 7, 10, 75, 46, 22, 98, 87, 13, 92, 90, 76, 61, 60, 115, 113, 123, 96, 126, 67, 6, 74]"
      ]
    },
    {
      "cell_type": "code",
      "execution_count": null,
      "id": "egCeY235eZmw",
      "metadata": {
        "id": "egCeY235eZmw"
      },
      "outputs": [],
      "source": [
        "#Patch_size=11\n",
        "bands_p11=[78, 84, 41, 49, 131, 5, 59, 118, 79, 136, 40, 86, 69, 104, 88, 100, 45, 26, 7, 81, 3, 99, 92, 132, 22, 119, 9, 127, 56, 109, 102, 19, 44, 116, 4, 107, 85, 53, 17, 113, 24, 65, 133, 54, 101, 141, 106, 13, 143, 63, 114, 108, 89, 27, 8, 57, 137, 58, 111, 47, 25, 42, 68, 48, 98, 38, 130, 36, 73, 82, 6, 95, 77, 115, 15, 71, 60, 21, 11, 110, 122, 117, 1, 123, 134, 52, 126, 0, 125, 55, 97, 43, 76, 120, 39, 18, 142, 74, 16, 67, 46, 2, 83, 37, 61, 135, 112, 31, 12, 10, 91, 129, 94, 80, 72, 64, 103, 34, 23, 90, 66, 121, 70, 29, 140, 14, 96, 138, 62, 32, 30, 139, 35, 93, 50, 87, 33, 51, 128, 75, 124, 105, 20, 28]"
      ]
    },
    {
      "cell_type": "code",
      "execution_count": null,
      "id": "0DQopcxFea4K",
      "metadata": {
        "id": "0DQopcxFea4K"
      },
      "outputs": [],
      "source": [
        "#Patch_size=13\n",
        "bands_p13=[143, 99, 109, 13, 16, 33, 94, 97, 53, 68, 89, 77, 93, 47, 87, 19, 2, 136, 57, 104, 26, 132, 38, 11, 76, 40, 140, 111, 119, 96, 102, 108, 90, 131, 113, 49, 62, 58, 56, 35, 128, 18, 14, 51, 110, 66, 24, 117, 43, 71, 137, 81, 74, 141, 120, 135, 60, 72, 103, 9, 21, 8, 3, 107, 123, 6, 37, 129, 138, 65, 44, 116, 78, 22, 10, 39, 73, 23, 121, 28, 86, 88, 139, 75, 31, 46, 27, 92, 115, 25, 114, 30, 91, 20, 48, 98, 50, 59, 17, 41, 79, 12, 101, 133, 105, 29, 69, 63, 1, 142, 15, 54, 126, 42, 7, 124, 85, 106, 125, 4, 0, 82, 80, 36, 5, 34, 67, 118, 70, 55, 64, 84, 52, 112, 61, 83, 32, 122, 95, 45, 127, 100, 130, 134]"
      ]
    },
    {
      "cell_type": "code",
      "execution_count": null,
      "id": "MY9fXMGNebFE",
      "metadata": {
        "id": "MY9fXMGNebFE"
      },
      "outputs": [],
      "source": [
        "#Patch_size=15\n",
        "bands_p15=[138, 102, 136, 112, 130, 135, 85, 75, 97, 27, 71, 11, 38, 51, 29, 16, 47, 93, 39, 73, 9, 59, 31, 20, 30, 70, 5, 14, 65, 23, 61, 86, 119, 108, 56, 101, 33, 105, 116, 120, 43, 91, 74, 88, 52, 82, 4, 79, 19, 55, 21, 60, 36, 78, 45, 44, 28, 22, 37, 53, 7, 140, 90, 32, 100, 96, 48, 92, 141, 104, 68, 80, 98, 34, 94, 114, 58, 62, 35, 26, 106, 83, 41, 110, 127, 109, 72, 76, 13, 64, 103, 132, 99, 69, 54, 122, 12, 129, 89, 126, 63, 50, 49, 125, 124, 10, 66, 113, 2, 84, 121, 77, 18, 67, 17, 133, 8, 46, 134, 143, 115, 81, 42, 142, 118, 131, 25, 15, 57, 123, 139, 137, 6, 24, 3, 117, 1, 40, 95, 111, 87, 107, 128, 0]"
      ]
    },
    {
      "cell_type": "code",
      "source": [
        "data_values = \"\"\"0.9174\t0.9287\t0.9103\t0.9194\t0.9299\t0.9125\t0.9188\t0.9291\t0.9119\t0.9188\t0.9291\t0.9118\t0.9187\t0.9296\t0.9118\t0.9181\t0.9291\t0.9111\t0.9106\t0.9234\t0.9030\t0.9121\t0.9246\t0.9046\t0.8710\t0.8912\t0.8600\t0.8736\t0.8929\t0.8628\t0.7948\t0.8214\t0.7779\n",
        "0.8969\t0.9136\t0.8881\t0.8998\t0.9155\t0.8913\t0.8982\t0.9145\t0.8895\t0.9186\t0.9299\t0.9116\t0.9086\t0.9225\t0.9008\t0.9083\t0.9225\t0.9004\t0.9063\t0.9211\t0.8983\t0.9126\t0.9256\t0.9052\t0.9147\t0.9272\t0.9074\t0.8665\t0.8879\t0.8552\t0.6562\t0.7025\t0.6296\n",
        "0.9209\t0.9349\t0.9141\t0.9215\t0.9354\t0.9147\t0.9204\t0.9342\t0.9136\t0.9246\t0.9374\t0.9181\t0.9242\t0.9373\t0.9177\t0.9266\t0.9392\t0.9203\t0.9253\t0.9378\t0.9189\t0.9251\t0.9378\t0.9186\t0.9317\t0.9427\t0.9259\t0.9202\t0.9335\t0.9134\t0.6939\t0.7242\t0.6693\"\"\"\n",
        "# Split the data values by line\n",
        "data_values_lines = data_values.split('\\n')\n",
        "\n",
        "# Iterate through each line and add commas to the values\n",
        "formatted_data_values = []\n",
        "for line in data_values_lines:\n",
        "    values = line.split()\n",
        "    formatted_line = ', '.join(values)\n",
        "    formatted_data_values.append(formatted_line)\n",
        "\n",
        "# Join the lines back together\n",
        "formatted_data = '\\n'.join(formatted_data_values)\n",
        "\n",
        "print(formatted_data)"
      ],
      "metadata": {
        "colab": {
          "base_uri": "https://localhost:8080/"
        },
        "id": "kqVbnNtrEvyg",
        "outputId": "4129f538-fd0a-4262-edd5-712a81b79cd0"
      },
      "id": "kqVbnNtrEvyg",
      "execution_count": null,
      "outputs": [
        {
          "output_type": "stream",
          "name": "stdout",
          "text": [
            "0.9174, 0.9287, 0.9103, 0.9194, 0.9299, 0.9125, 0.9188, 0.9291, 0.9119, 0.9188, 0.9291, 0.9118, 0.9187, 0.9296, 0.9118, 0.9181, 0.9291, 0.9111, 0.9106, 0.9234, 0.9030, 0.9121, 0.9246, 0.9046, 0.8710, 0.8912, 0.8600, 0.8736, 0.8929, 0.8628, 0.7948, 0.8214, 0.7779\n",
            "0.8969, 0.9136, 0.8881, 0.8998, 0.9155, 0.8913, 0.8982, 0.9145, 0.8895, 0.9186, 0.9299, 0.9116, 0.9086, 0.9225, 0.9008, 0.9083, 0.9225, 0.9004, 0.9063, 0.9211, 0.8983, 0.9126, 0.9256, 0.9052, 0.9147, 0.9272, 0.9074, 0.8665, 0.8879, 0.8552, 0.6562, 0.7025, 0.6296\n",
            "0.9209, 0.9349, 0.9141, 0.9215, 0.9354, 0.9147, 0.9204, 0.9342, 0.9136, 0.9246, 0.9374, 0.9181, 0.9242, 0.9373, 0.9177, 0.9266, 0.9392, 0.9203, 0.9253, 0.9378, 0.9189, 0.9251, 0.9378, 0.9186, 0.9317, 0.9427, 0.9259, 0.9202, 0.9335, 0.9134, 0.6939, 0.7242, 0.6693\n"
          ]
        }
      ]
    },
    {
      "cell_type": "code",
      "source": [
        "data_values = \"\"\"0.9174\t0.9287\t0.9103\t0.9194\t0.9299\t0.9125\t0.9188\t0.9291\t0.9119\t0.9188\t0.9291\t0.9118\t0.9187\t0.9296\t0.9118\t0.9181\t0.9291\t0.9111\t0.9106\t0.9234\t0.9030\t0.9121\t0.9246\t0.9046\t0.8710\t0.8912\t0.8600\t0.8736\t0.8929\t0.8628\t0.7948\t0.8214\t0.7779\n",
        "0.8969\t0.9136\t0.8881\t0.8998\t0.9155\t0.8913\t0.8982\t0.9145\t0.8895\t0.9186\t0.9299\t0.9116\t0.9086\t0.9225\t0.9008\t0.9083\t0.9225\t0.9004\t0.9063\t0.9211\t0.8983\t0.9126\t0.9256\t0.9052\t0.9147\t0.9272\t0.9074\t0.8665\t0.8879\t0.8552\t0.6562\t0.7025\t0.6296\n",
        "0.9081\t0.9220\t0.9003\t0.9104\t0.9237\t0.9027\t0.9136\t0.9262\t0.9062\t0.9190\t0.9304\t0.9121\t0.9201\t0.9301\t0.9133\t0.9193\t0.9284\t0.9124\t0.9198\t0.9283\t0.9124\t0.9019\t0.9167\t0.8935\t0.8938\t0.9107\t0.8848\t0.9079\t0.9210\t0.9000\t0.6539\t0.6983\t0.6269\n",
        "0.9209\t0.9349\t0.9141\t0.9215\t0.9354\t0.9147\t0.9204\t0.9342\t0.9136\t0.9246\t0.9374\t0.9181\t0.9242\t0.9373\t0.9177\t0.9266\t0.9392\t0.9203\t0.9253\t0.9378\t0.9189\t0.9251\t0.9378\t0.9186\t0.9317\t0.9427\t0.9259\t0.9202\t0.9335\t0.9134\t0.6939\t0.7242\t0.6693\"\"\"\n",
        "# Split the data values by line\n",
        "data_values_lines = data_values.split('\\n')\n",
        "\n",
        "# Iterate through each line and add commas to the values\n",
        "formatted_data_values = []\n",
        "for line in data_values_lines:\n",
        "    values = line.split()\n",
        "    formatted_line = ', '.join(values)\n",
        "    formatted_data_values.append(formatted_line)\n",
        "\n",
        "# Join the lines back together\n",
        "formatted_data = '\\n'.join(formatted_data_values)\n",
        "\n",
        "print(formatted_data)"
      ],
      "metadata": {
        "colab": {
          "base_uri": "https://localhost:8080/"
        },
        "id": "RaaWsSRclm13",
        "outputId": "d69aaf05-0050-4c2b-e6a3-eb2be77dcce1"
      },
      "id": "RaaWsSRclm13",
      "execution_count": null,
      "outputs": [
        {
          "output_type": "stream",
          "name": "stdout",
          "text": [
            "0.9174, 0.9287, 0.9103, 0.9194, 0.9299, 0.9125, 0.9188, 0.9291, 0.9119, 0.9188, 0.9291, 0.9118, 0.9187, 0.9296, 0.9118, 0.9181, 0.9291, 0.9111, 0.9106, 0.9234, 0.9030, 0.9121, 0.9246, 0.9046, 0.8710, 0.8912, 0.8600, 0.8736, 0.8929, 0.8628, 0.7948, 0.8214, 0.7779\n",
            "0.8969, 0.9136, 0.8881, 0.8998, 0.9155, 0.8913, 0.8982, 0.9145, 0.8895, 0.9186, 0.9299, 0.9116, 0.9086, 0.9225, 0.9008, 0.9083, 0.9225, 0.9004, 0.9063, 0.9211, 0.8983, 0.9126, 0.9256, 0.9052, 0.9147, 0.9272, 0.9074, 0.8665, 0.8879, 0.8552, 0.6562, 0.7025, 0.6296\n",
            "0.9081, 0.9220, 0.9003, 0.9104, 0.9237, 0.9027, 0.9136, 0.9262, 0.9062, 0.9190, 0.9304, 0.9121, 0.9201, 0.9301, 0.9133, 0.9193, 0.9284, 0.9124, 0.9198, 0.9283, 0.9124, 0.9019, 0.9167, 0.8935, 0.8938, 0.9107, 0.8848, 0.9079, 0.9210, 0.9000, 0.6539, 0.6983, 0.6269\n",
            "0.9209, 0.9349, 0.9141, 0.9215, 0.9354, 0.9147, 0.9204, 0.9342, 0.9136, 0.9246, 0.9374, 0.9181, 0.9242, 0.9373, 0.9177, 0.9266, 0.9392, 0.9203, 0.9253, 0.9378, 0.9189, 0.9251, 0.9378, 0.9186, 0.9317, 0.9427, 0.9259, 0.9202, 0.9335, 0.9134, 0.6939, 0.7242, 0.6693\n"
          ]
        }
      ]
    },
    {
      "cell_type": "code",
      "source": [
        "# SVM Test Output\n",
        "# Test Result on Sep. 25.2023\n",
        "import pandas as pd\n",
        "import matplotlib.pyplot as plt\n",
        "from matplotlib.ticker import MultipleLocator\n",
        "\n",
        "\n",
        "# Trento P9 SVM test data\n",
        "data = {\n",
        "     \"Band Number\": [50, 50, 50, 45, 45,45, 40,40,40, 35, 35, 35, 30, 30,30,25, 25,25,20, 20,20,15,15,15, 10,10,10, 5,5,5],\n",
        "    \"Metrics\": ['OA', 'AA', 'Kappa']*10,\n",
        "    'SelfAttention A':[ 0.9174, 0.9287, 0.9103, 0.9194, 0.9299, 0.9125, 0.9188, 0.9291, 0.9119, 0.9188, 0.9291, 0.9118, 0.9187, 0.9296, 0.9118, 0.9181, 0.9291, 0.9111, 0.9106, 0.9234, 0.9030, 0.9121, 0.9246, 0.9046, 0.8710, 0.8912, 0.8600, 0.8736, 0.8929, 0.8628],\n",
        "'SelfAttention B':[0.8969, 0.9136, 0.8881, 0.8998, 0.9155, 0.8913, 0.8982, 0.9145, 0.8895, 0.9186, 0.9299, 0.9116, 0.9086, 0.9225, 0.9008, 0.9083, 0.9225, 0.9004, 0.9063, 0.9211, 0.8983, 0.9126, 0.9256, 0.9052, 0.9147, 0.9272, 0.9074, 0.8665, 0.8879, 0.8552],\n",
        "'RawData:SelfAttention+CrossAttention':[    0.9081, 0.9220, 0.9003, 0.9104, 0.9237, 0.9027, 0.9136, 0.9262, 0.9062, 0.9190, 0.9304, 0.9121, 0.9201, 0.9301, 0.9133, 0.9193, 0.9284, 0.9124, 0.9198, 0.9283, 0.9124, 0.9019, 0.9167, 0.8935, 0.8938, 0.9107, 0.8848, 0.9079, 0.9210, 0.9000],\n",
        "'Augmented:SelfAttention+CrossAttention':[0.9209, 0.9349, 0.9141, 0.9215, 0.9354, 0.9147, 0.9204, 0.9342, 0.9136, 0.9246, 0.9374, 0.9181, 0.9242, 0.9373, 0.9177, 0.9266, 0.9392, 0.9203, 0.9253, 0.9378, 0.9189, 0.9251, 0.9378, 0.9186, 0.9317, 0.9427, 0.9259, 0.9202, 0.9335, 0.9134]\n",
        "}\n",
        "# Creating a DataFrame\n",
        "df_uh_svm = pd.DataFrame(data)\n",
        "\n",
        "metrics = ['OA', 'AA', 'Kappa']\n",
        "methods = ['SelfAttention A', 'SelfAttention B','RawData:SelfAttention+CrossAttention', 'Augmented:SelfAttention+CrossAttention']\n",
        "\n",
        "# Define the band_numbers variable\n",
        "band_numbers = df_uh_svm['Band Number'].unique()\n",
        "#Overall accuracy: 0.9883313488688552\n",
        "#Average accuracy: 0.9824927817801358\n",
        "#Kappa: 0.9843540637091338\n",
        "full_bands = {'OA': 0.8948, 'AA': 0.9091, 'Kappa': 0.8859}\n",
        "\n",
        "# Iterate over metrics to create each plot\n",
        "for metric in metrics:\n",
        "    plt.figure(figsize=(8, 4))\n",
        "\n",
        "    # Extract and plot data for each method\n",
        "    for method in methods:\n",
        "        values = df_uh_svm[df_uh_svm['Metrics'] == metric][method].values\n",
        "        plt.plot(band_numbers, values, marker='o', label=method, linewidth=1.5 if method == 'Our method' else 1.0)\n",
        "\n",
        "    # Add the straight line for the full band benchmark\n",
        "    plt.axhline(full_bands[metric], color='black', linestyle='--', label=f'Full Band {metric}')\n",
        "\n",
        "    plt.xlabel('Band Number')\n",
        "    plt.ylabel(f'UH2013 Ablation Study SVM:{metric}', fontsize='small')\n",
        "    plt.legend(loc='lower right', fontsize='small')\n",
        "    plt.grid(True)\n",
        "    plt.ylim(0.8600, 0.9400)\n",
        "    plt.xlim(0, 52)\n",
        "    ax = plt.gca()\n",
        "    ax.xaxis.set_major_locator(MultipleLocator(5))\n",
        "    plt.show()"
      ],
      "metadata": {
        "colab": {
          "base_uri": "https://localhost:8080/",
          "height": 1000
        },
        "id": "CmT1zSQmE-5A",
        "outputId": "0112dc11-44af-4b1e-d58a-26245a7cbb84"
      },
      "id": "CmT1zSQmE-5A",
      "execution_count": null,
      "outputs": [
        {
          "output_type": "display_data",
          "data": {
            "text/plain": [
              "<Figure size 800x400 with 1 Axes>"
            ],
            "image/png": "[encoded data removed]"
          },
          "metadata": {}
        },
        {
          "output_type": "display_data",
          "data": {
            "text/plain": [
              "<Figure size 800x400 with 1 Axes>"
            ],
            "image/png": "[encoded data removed]"
          },
          "metadata": {}
        },
        {
          "output_type": "display_data",
          "data": {
            "text/plain": [
              "<Figure size 800x400 with 1 Axes>"
            ],
            "image/png": "[encoded data removed]"
          },
          "metadata": {}
        }
      ]
    }
  ],
  "metadata": {
    "accelerator": "TPU",
    "colab": {
      "machine_shape": "hm",
      "provenance": [],
      "gpuType": "V28"
    },
    "kernelspec": {
      "display_name": "Python 3",
      "name": "python3"
    },
    "language_info": {
      "codemirror_mode": {
        "name": "ipython",
        "version": 3
      },
      "file_extension": ".py",
      "mimetype": "text/x-python",
      "name": "python",
      "nbconvert_exporter": "python",
      "pygments_lexer": "ipython3",
      "version": "3.10.10"
    }
  },
  "nbformat": 4,
  "nbformat_minor": 5
}